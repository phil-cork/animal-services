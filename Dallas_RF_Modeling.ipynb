{
 "cells": [
  {
   "cell_type": "code",
   "execution_count": 1,
   "id": "2cbbd846",
   "metadata": {},
   "outputs": [],
   "source": [
    "import pandas as pd\n",
    "import random\n",
    "import numpy as np\n",
    "\n",
    "# Plotting libraries\n",
    "from plotnine import *\n",
    "import matplotlib.pyplot as plt\n",
    "\n",
    "# For pre-processing data \n",
    "from sklearn import preprocessing as pp \n",
    "from sklearn.compose import ColumnTransformer \n",
    "\n",
    "# For splits and CV\n",
    "from sklearn.model_selection import train_test_split\n",
    "from sklearn.model_selection import KFold # Cross validation \n",
    "from sklearn.model_selection import cross_validate # Cross validation \n",
    "from sklearn.model_selection import GridSearchCV # Cross validation + param. tuning.\n",
    "\n",
    "# Machine learning methods \n",
    "from sklearn.naive_bayes import GaussianNB as NB\n",
    "from sklearn.neighbors import KNeighborsClassifier as KNN\n",
    "from sklearn.tree import DecisionTreeClassifier as DT\n",
    "from sklearn.tree import DecisionTreeRegressor as DT_reg\n",
    "from sklearn.ensemble import RandomForestClassifier as RF\n",
    "from sklearn import tree # For plotting the decision tree rules\n",
    "from sklearn import svm as svm\n",
    "\n",
    "# For evaluating our model's performance\n",
    "import sklearn.metrics as m\n",
    "\n",
    "# Pipeline to combine modeling elements\n",
    "from sklearn.pipeline import Pipeline\n",
    "\n",
    "# For model interpretation\n",
    "from sklearn.inspection import (\n",
    "    permutation_importance,\n",
    "    partial_dependence, \n",
    "    PartialDependenceDisplay, \n",
    "    plot_partial_dependence\n",
    ")\n",
    "\n",
    "from sklearn.decomposition import PCA \n",
    "\n",
    "\n",
    "# Misc\n",
    "import warnings\n",
    "warnings.filterwarnings(\"ignore\")\n",
    "random.seed(1137)"
   ]
  },
  {
   "cell_type": "code",
   "execution_count": 2,
   "id": "b2467993",
   "metadata": {},
   "outputs": [],
   "source": [
    "dallas = pd.read_csv('data/processed/dallas_dv.csv')"
   ]
  },
  {
   "cell_type": "code",
   "execution_count": 6,
   "id": "824841de",
   "metadata": {},
   "outputs": [],
   "source": [
    "y = dallas[['euthanasia']]\n",
    "X = dallas.drop(columns=['euthanasia', 'city'])\n",
    "\n",
    "train_X, test_X, train_y, test_y = train_test_split(X,y,test_size = .25, random_state=1137)"
   ]
  },
  {
   "cell_type": "code",
   "execution_count": 8,
   "id": "2f5db6d3",
   "metadata": {},
   "outputs": [],
   "source": [
    "# Used throughout each model, doesn't need to be reset each time\n",
    "\n",
    "fold_generator = KFold(n_splits=10, shuffle=True, random_state=1137)\n",
    "\n",
    "pipe = Pipeline(steps=[('pre_process', pp.MinMaxScaler()),('model',None)])\n",
    "\n",
    "\n",
    "search_space = [\n",
    "\n",
    "        # Random forest with the N Estimators tuning param\n",
    "    {'model' : [RF()],\n",
    "    'model__max_depth':[10,20],\n",
    "    'model__n_estimators':[500,1000],\n",
    "    'model__random_state':[1137]},\n",
    "]"
   ]
  },
  {
   "cell_type": "code",
   "execution_count": 9,
   "id": "cb3a657a",
   "metadata": {},
   "outputs": [],
   "source": [
    "search = GridSearchCV(pipe, search_space, \n",
    "                      cv = fold_generator,\n",
    "                      scoring='roc_auc',\n",
    "                      n_jobs=4)"
   ]
  },
  {
   "cell_type": "code",
   "execution_count": 10,
   "id": "7ee4a66b",
   "metadata": {},
   "outputs": [
    {
     "data": {
      "text/plain": [
       "GridSearchCV(cv=KFold(n_splits=10, random_state=1137, shuffle=True),\n",
       "             estimator=Pipeline(steps=[('pre_process', MinMaxScaler()),\n",
       "                                       ('model', None)]),\n",
       "             n_jobs=4,\n",
       "             param_grid=[{'model': [RandomForestClassifier(max_depth=20,\n",
       "                                                           n_estimators=1000,\n",
       "                                                           random_state=1137)],\n",
       "                          'model__max_depth': [10, 20],\n",
       "                          'model__n_estimators': [500, 1000],\n",
       "                          'model__random_state': [1137]}],\n",
       "             scoring='roc_auc')"
      ]
     },
     "execution_count": 10,
     "metadata": {},
     "output_type": "execute_result"
    }
   ],
   "source": [
    "search.fit(train_X,train_y.euthanasia)"
   ]
  },
  {
   "cell_type": "code",
   "execution_count": 11,
   "id": "de13364f",
   "metadata": {},
   "outputs": [
    {
     "data": {
      "text/plain": [
       "0.7748404061188178"
      ]
     },
     "execution_count": 11,
     "metadata": {},
     "output_type": "execute_result"
    }
   ],
   "source": [
    "search.best_score_"
   ]
  },
  {
   "cell_type": "code",
   "execution_count": 12,
   "id": "1c7306ad",
   "metadata": {},
   "outputs": [],
   "source": [
    "rf_mod = search.best_estimator_"
   ]
  },
  {
   "cell_type": "code",
   "execution_count": 13,
   "id": "d08aedfa",
   "metadata": {},
   "outputs": [
    {
     "data": {
      "text/plain": [
       "0.8039155750907473"
      ]
     },
     "execution_count": 13,
     "metadata": {},
     "output_type": "execute_result"
    }
   ],
   "source": [
    "m.roc_auc_score(train_y,rf_mod.predict_proba(train_X)[:,1])"
   ]
  },
  {
   "cell_type": "code",
   "execution_count": 14,
   "id": "baf936a6",
   "metadata": {},
   "outputs": [
    {
     "data": {
      "text/plain": [
       "0.8546859903381643"
      ]
     },
     "execution_count": 14,
     "metadata": {},
     "output_type": "execute_result"
    }
   ],
   "source": [
    "m.accuracy_score(train_y,rf_mod.predict(train_X))"
   ]
  },
  {
   "cell_type": "code",
   "execution_count": 15,
   "id": "6e945fe7",
   "metadata": {},
   "outputs": [
    {
     "data": {
      "text/html": [
       "<div>\n",
       "<style scoped>\n",
       "    .dataframe tbody tr th:only-of-type {\n",
       "        vertical-align: middle;\n",
       "    }\n",
       "\n",
       "    .dataframe tbody tr th {\n",
       "        vertical-align: top;\n",
       "    }\n",
       "\n",
       "    .dataframe thead th {\n",
       "        text-align: right;\n",
       "    }\n",
       "</style>\n",
       "<table border=\"1\" class=\"dataframe\">\n",
       "  <thead>\n",
       "    <tr style=\"text-align: right;\">\n",
       "      <th></th>\n",
       "      <th>model</th>\n",
       "      <th>mean_test_score</th>\n",
       "      <th>mean_st_err</th>\n",
       "      <th>low</th>\n",
       "      <th>high</th>\n",
       "      <th>max</th>\n",
       "    </tr>\n",
       "  </thead>\n",
       "  <tbody>\n",
       "    <tr>\n",
       "      <th>0</th>\n",
       "      <td>RandomForest, maxdepth:10, trees:500</td>\n",
       "      <td>0.762806</td>\n",
       "      <td>0.009257</td>\n",
       "      <td>0.744291</td>\n",
       "      <td>0.781321</td>\n",
       "      <td>False</td>\n",
       "    </tr>\n",
       "    <tr>\n",
       "      <th>1</th>\n",
       "      <td>RandomForest, maxdepth:10, trees:1000</td>\n",
       "      <td>0.762091</td>\n",
       "      <td>0.009468</td>\n",
       "      <td>0.743154</td>\n",
       "      <td>0.781027</td>\n",
       "      <td>False</td>\n",
       "    </tr>\n",
       "    <tr>\n",
       "      <th>2</th>\n",
       "      <td>RandomForest, maxdepth:20, trees:500</td>\n",
       "      <td>0.774808</td>\n",
       "      <td>0.009296</td>\n",
       "      <td>0.756215</td>\n",
       "      <td>0.793401</td>\n",
       "      <td>False</td>\n",
       "    </tr>\n",
       "    <tr>\n",
       "      <th>3</th>\n",
       "      <td>RandomForest, maxdepth:20, trees:1000</td>\n",
       "      <td>0.774840</td>\n",
       "      <td>0.009301</td>\n",
       "      <td>0.756239</td>\n",
       "      <td>0.793442</td>\n",
       "      <td>True</td>\n",
       "    </tr>\n",
       "  </tbody>\n",
       "</table>\n",
       "</div>"
      ],
      "text/plain": [
       "                                   model  mean_test_score  mean_st_err  \\\n",
       "0   RandomForest, maxdepth:10, trees:500         0.762806     0.009257   \n",
       "1  RandomForest, maxdepth:10, trees:1000         0.762091     0.009468   \n",
       "2   RandomForest, maxdepth:20, trees:500         0.774808     0.009296   \n",
       "3  RandomForest, maxdepth:20, trees:1000         0.774840     0.009301   \n",
       "\n",
       "        low      high    max  \n",
       "0  0.744291  0.781321  False  \n",
       "1  0.743154  0.781027  False  \n",
       "2  0.756215  0.793401  False  \n",
       "3  0.756239  0.793442   True  "
      ]
     },
     "execution_count": 15,
     "metadata": {},
     "output_type": "execute_result"
    }
   ],
   "source": [
    "# Mean Test Score Comparison Table Creation\n",
    "# store scores and standard errors for building confidence intervals\n",
    "scores = search.cv_results_.get('mean_test_score')\n",
    "errors = search.cv_results_.get('std_test_score')\n",
    "\n",
    "search.cv_results_.get('params')\n",
    "models = [\n",
    "\n",
    "    'RandomForest, maxdepth:10, trees:500',\n",
    "    'RandomForest, maxdepth:10, trees:1000',\n",
    "    'RandomForest, maxdepth:20, trees:500',\n",
    "    'RandomForest, maxdepth:20, trees:1000',\n",
    "]\n",
    "# create dataframe of models, scores, and errors\n",
    "d = {'model':models, 'mean_test_score':scores, 'mean_st_err':errors}\n",
    "table = pd.DataFrame(data=d)\n",
    "# create confidence intervals\n",
    "table['low'] = table['mean_test_score'] - 2*table['mean_st_err']\n",
    "table['high'] = table['mean_test_score'] + 2*table['mean_st_err']\n",
    "table['max'] = (table['mean_test_score'] == table['mean_test_score'].max())\n",
    "\n",
    "table"
   ]
  },
  {
   "cell_type": "code",
   "execution_count": 16,
   "id": "d8f9d021",
   "metadata": {},
   "outputs": [
    {
     "data": {
      "image/png": "[encoded data removed]",
      "text/plain": [
       "<Figure size 640x480 with 1 Axes>"
      ]
     },
     "metadata": {
      "needs_background": "light"
     },
     "output_type": "display_data"
    },
    {
     "data": {
      "text/plain": [
       "<ggplot: (8770214514351)>"
      ]
     },
     "execution_count": 16,
     "metadata": {},
     "output_type": "execute_result"
    }
   ],
   "source": [
    "(\n",
    "ggplot(table, aes(x='model', y='mean_test_score',\n",
    "                  fill='max')) + \n",
    "    geom_col() + \n",
    "    geom_errorbar(aes(ymin=\"low\",ymax=\"high\"),width=.4) + \n",
    "    scale_fill_manual(values=('darkgray','gold'), guide=None) + \n",
    "    coord_flip() + \n",
    "    labs(x='', y='Mean Test Score', title='Mean Test Score, Dallas Training Data') + \n",
    "    theme_minimal()\n",
    ")"
   ]
  },
  {
   "cell_type": "code",
   "execution_count": 17,
   "id": "ead46350",
   "metadata": {},
   "outputs": [],
   "source": [
    "preds = rf_mod.predict_proba(train_X)[:,1]"
   ]
  },
  {
   "cell_type": "code",
   "execution_count": 26,
   "id": "caf39878",
   "metadata": {},
   "outputs": [
    {
     "data": {
      "image/png": "[encoded data removed]",
      "text/plain": [
       "<Figure size 720x360 with 1 Axes>"
      ]
     },
     "metadata": {
      "needs_background": "light"
     },
     "output_type": "display_data"
    }
   ],
   "source": [
    "# plot the distribution of prediction values to better understand model's response to training data\n",
    "\n",
    "plt.hist(preds, bins='auto')\n",
    "plt.rcParams[\"figure.figsize\"] = (10, 5)\n",
    "plt.title(\"Dallas Training Data Predictions Histogram\")\n",
    "plt.show()\n"
   ]
  },
  {
   "cell_type": "code",
   "execution_count": 43,
   "id": "7c031136",
   "metadata": {},
   "outputs": [
    {
     "name": "stdout",
     "output_type": "stream",
     "text": [
      "              precision    recall  f1-score   support\n",
      "\n",
      "           0       0.86      0.99      0.92     21403\n",
      "           1       0.78      0.22      0.35      4472\n",
      "\n",
      "    accuracy                           0.85     25875\n",
      "   macro avg       0.82      0.60      0.63     25875\n",
      "weighted avg       0.85      0.85      0.82     25875\n",
      "\n"
     ]
    },
    {
     "data": {
      "image/png": "[encoded data removed]",
      "text/plain": [
       "<Figure size 360x360 with 1 Axes>"
      ]
     },
     "metadata": {
      "needs_background": "light"
     },
     "output_type": "display_data"
    }
   ],
   "source": [
    "# create the confusion matrix with shifting threshold for evaluating precision and recall\n",
    "\n",
    "preds_bin = preds.copy()\n",
    "\n",
    "preds_bin = np.where(preds_bin >= .5, 1, preds_bin)\n",
    "preds_bin = np.where(preds_bin < .5, 0, preds_bin)\n",
    "\n",
    "print(m.classification_report(train_y, preds_bin))\n",
    "\n",
    "m.ConfusionMatrixDisplay.from_predictions(train_y, preds_bin, colorbar=False)\n",
    "plt.rcParams[\"figure.figsize\"] = (5, 5)\n",
    "plt.title('Dallas Training Data Confusion Matrix, 0.5 Threshold')\n",
    "plt.show()"
   ]
  },
  {
   "cell_type": "markdown",
   "id": "94cfb56a",
   "metadata": {},
   "source": [
    "## Dallas Variable Importance"
   ]
  },
  {
   "cell_type": "code",
   "execution_count": 20,
   "id": "98e153bc",
   "metadata": {},
   "outputs": [
    {
     "data": {
      "text/html": [
       "<div>\n",
       "<style scoped>\n",
       "    .dataframe tbody tr th:only-of-type {\n",
       "        vertical-align: middle;\n",
       "    }\n",
       "\n",
       "    .dataframe tbody tr th {\n",
       "        vertical-align: top;\n",
       "    }\n",
       "\n",
       "    .dataframe thead th {\n",
       "        text-align: right;\n",
       "    }\n",
       "</style>\n",
       "<table border=\"1\" class=\"dataframe\">\n",
       "  <thead>\n",
       "    <tr style=\"text-align: right;\">\n",
       "      <th></th>\n",
       "      <th>variable</th>\n",
       "      <th>vi</th>\n",
       "      <th>std</th>\n",
       "      <th>low</th>\n",
       "      <th>high</th>\n",
       "    </tr>\n",
       "  </thead>\n",
       "  <tbody>\n",
       "    <tr>\n",
       "      <th>0</th>\n",
       "      <td>intake_condition_unhealthy</td>\n",
       "      <td>0.025250</td>\n",
       "      <td>0.000648</td>\n",
       "      <td>0.023953</td>\n",
       "      <td>0.026547</td>\n",
       "    </tr>\n",
       "    <tr>\n",
       "      <th>1</th>\n",
       "      <td>intake_type_owner surrender</td>\n",
       "      <td>0.014634</td>\n",
       "      <td>0.000840</td>\n",
       "      <td>0.012954</td>\n",
       "      <td>0.016315</td>\n",
       "    </tr>\n",
       "    <tr>\n",
       "      <th>2</th>\n",
       "      <td>intake_condition_injured</td>\n",
       "      <td>0.010718</td>\n",
       "      <td>0.000811</td>\n",
       "      <td>0.009096</td>\n",
       "      <td>0.012340</td>\n",
       "    </tr>\n",
       "    <tr>\n",
       "      <th>3</th>\n",
       "      <td>intake_condition_healthy</td>\n",
       "      <td>0.005127</td>\n",
       "      <td>0.000324</td>\n",
       "      <td>0.004479</td>\n",
       "      <td>0.005775</td>\n",
       "    </tr>\n",
       "    <tr>\n",
       "      <th>4</th>\n",
       "      <td>intake_type_stray</td>\n",
       "      <td>0.003491</td>\n",
       "      <td>0.000623</td>\n",
       "      <td>0.002244</td>\n",
       "      <td>0.004738</td>\n",
       "    </tr>\n",
       "    <tr>\n",
       "      <th>...</th>\n",
       "      <td>...</td>\n",
       "      <td>...</td>\n",
       "      <td>...</td>\n",
       "      <td>...</td>\n",
       "      <td>...</td>\n",
       "    </tr>\n",
       "    <tr>\n",
       "      <th>242</th>\n",
       "      <td>harrier</td>\n",
       "      <td>0.000000</td>\n",
       "      <td>0.000000</td>\n",
       "      <td>0.000000</td>\n",
       "      <td>0.000000</td>\n",
       "    </tr>\n",
       "    <tr>\n",
       "      <th>243</th>\n",
       "      <td>maltese</td>\n",
       "      <td>-0.000013</td>\n",
       "      <td>0.000018</td>\n",
       "      <td>-0.000049</td>\n",
       "      <td>0.000024</td>\n",
       "    </tr>\n",
       "    <tr>\n",
       "      <th>244</th>\n",
       "      <td>st bernard smooth coat</td>\n",
       "      <td>-0.000013</td>\n",
       "      <td>0.000018</td>\n",
       "      <td>-0.000049</td>\n",
       "      <td>0.000024</td>\n",
       "    </tr>\n",
       "    <tr>\n",
       "      <th>245</th>\n",
       "      <td>airedale terrier</td>\n",
       "      <td>-0.000013</td>\n",
       "      <td>0.000018</td>\n",
       "      <td>-0.000049</td>\n",
       "      <td>0.000024</td>\n",
       "    </tr>\n",
       "    <tr>\n",
       "      <th>246</th>\n",
       "      <td>lhasa apso</td>\n",
       "      <td>-0.000039</td>\n",
       "      <td>0.000032</td>\n",
       "      <td>-0.000102</td>\n",
       "      <td>0.000024</td>\n",
       "    </tr>\n",
       "  </tbody>\n",
       "</table>\n",
       "<p>247 rows × 5 columns</p>\n",
       "</div>"
      ],
      "text/plain": [
       "                        variable        vi       std       low      high\n",
       "0     intake_condition_unhealthy  0.025250  0.000648  0.023953  0.026547\n",
       "1    intake_type_owner surrender  0.014634  0.000840  0.012954  0.016315\n",
       "2       intake_condition_injured  0.010718  0.000811  0.009096  0.012340\n",
       "3       intake_condition_healthy  0.005127  0.000324  0.004479  0.005775\n",
       "4              intake_type_stray  0.003491  0.000623  0.002244  0.004738\n",
       "..                           ...       ...       ...       ...       ...\n",
       "242                      harrier  0.000000  0.000000  0.000000  0.000000\n",
       "243                      maltese -0.000013  0.000018 -0.000049  0.000024\n",
       "244       st bernard smooth coat -0.000013  0.000018 -0.000049  0.000024\n",
       "245             airedale terrier -0.000013  0.000018 -0.000049  0.000024\n",
       "246                   lhasa apso -0.000039  0.000032 -0.000102  0.000024\n",
       "\n",
       "[247 rows x 5 columns]"
      ]
     },
     "execution_count": 20,
     "metadata": {},
     "output_type": "execute_result"
    }
   ],
   "source": [
    "## Feature Importance\n",
    "\n",
    "vi = permutation_importance(rf_mod,train_X,train_y,n_repeats=3)\n",
    "\n",
    "# Organize as a data frame \n",
    "vi_dat = pd.DataFrame(dict(variable=train_X.columns,\n",
    "                           vi = vi['importances_mean'],\n",
    "                           std = vi['importances_std']))\n",
    "\n",
    "# Generate intervals\n",
    "vi_dat['low'] = vi_dat['vi'] - 2*vi_dat['std']\n",
    "vi_dat['high'] = vi_dat['vi'] + 2*vi_dat['std']\n",
    "\n",
    "# But in order from most to least important\n",
    "vi_dat = vi_dat.sort_values(by=\"vi\",ascending=False).reset_index(drop=True)\n",
    "\n",
    "\n",
    "vi_dat\n",
    "\n",
    "\n",
    "\n",
    "# store\n",
    "#vi_dat.to_csv(\"vi_dat_20_800.csv\", index=False)\n"
   ]
  },
  {
   "cell_type": "code",
   "execution_count": 49,
   "id": "f3ed7425",
   "metadata": {},
   "outputs": [
    {
     "data": {
      "image/png": "[encoded data removed]",
      "text/plain": [
       "<Figure size 300x500 with 1 Axes>"
      ]
     },
     "metadata": {},
     "output_type": "display_data"
    },
    {
     "data": {
      "text/plain": [
       "<ggplot: (8770252049604)>"
      ]
     },
     "execution_count": 49,
     "metadata": {},
     "output_type": "execute_result"
    }
   ],
   "source": [
    "# Plot the most important variables\n",
    "(\n",
    "    ggplot(vi_dat[0:10],\n",
    "          aes(x=\"variable\",y=\"vi\")) +\n",
    "    geom_col(fill=\"#9b59b6\") +\n",
    "    geom_point() +\n",
    "    geom_errorbar(aes(ymin=\"low\",ymax=\"high\"),width=.2) +\n",
    "    theme_bw() +\n",
    "    scale_x_discrete(limits=vi_dat[0:10].variable.tolist()) +\n",
    "    coord_flip() +\n",
    "    labs(y=\"Reduction in AUC ROC, Dallas\",x=\"\") + \n",
    "    theme(figure_size=(3,5))\n",
    "         )"
   ]
  },
  {
   "cell_type": "markdown",
   "id": "b1a1a1c4",
   "metadata": {},
   "source": [
    "## Dallas Test Data"
   ]
  },
  {
   "cell_type": "code",
   "execution_count": 22,
   "id": "b6755fd8",
   "metadata": {},
   "outputs": [],
   "source": [
    "# store the predicted values from the test data for graphing and adding to the confusion matrix below\n",
    "preds_t = rf_mod.predict_proba(test_X)[:,1]"
   ]
  },
  {
   "cell_type": "code",
   "execution_count": 32,
   "id": "ec2e75ea",
   "metadata": {},
   "outputs": [
    {
     "data": {
      "image/png": "[encoded data removed]",
      "text/plain": [
       "<Figure size 720x360 with 1 Axes>"
      ]
     },
     "metadata": {
      "needs_background": "light"
     },
     "output_type": "display_data"
    }
   ],
   "source": [
    "plt.hist(preds_t, bins='auto')\n",
    "plt.rcParams[\"figure.figsize\"] = (10, 5)\n",
    "plt.title(\"Dallas Test Data Predictions Histogram\")\n",
    "plt.show()"
   ]
  },
  {
   "cell_type": "code",
   "execution_count": 45,
   "id": "2fb859af",
   "metadata": {},
   "outputs": [
    {
     "name": "stdout",
     "output_type": "stream",
     "text": [
      "              precision    recall  f1-score   support\n",
      "\n",
      "           0       0.85      0.99      0.92      7122\n",
      "           1       0.76      0.20      0.32      1503\n",
      "\n",
      "    accuracy                           0.85      8625\n",
      "   macro avg       0.81      0.59      0.62      8625\n",
      "weighted avg       0.84      0.85      0.81      8625\n",
      "\n"
     ]
    },
    {
     "data": {
      "image/png": "[encoded data removed]",
      "text/plain": [
       "<Figure size 360x360 with 1 Axes>"
      ]
     },
     "metadata": {
      "needs_background": "light"
     },
     "output_type": "display_data"
    }
   ],
   "source": [
    "preds_bin_t = preds_t.copy()\n",
    "\n",
    "preds_bin_t = np.where(preds_bin_t >= .5, 1, preds_bin_t)\n",
    "preds_bin_t = np.where(preds_bin_t < .5, 0, preds_bin_t)\n",
    "\n",
    "print(m.classification_report(test_y, preds_bin_t))\n",
    "\n",
    "m.ConfusionMatrixDisplay.from_predictions(test_y, preds_bin_t, colorbar=False)\n",
    "plt.rcParams[\"figure.figsize\"] = (5, 5)\n",
    "plt.title('Dallas Test Data Confusion Matrix, 0.5')\n",
    "plt.show()"
   ]
  }
 ],
 "metadata": {
  "kernelspec": {
   "display_name": "Python 3",
   "language": "python",
   "name": "python3"
  },
  "language_info": {
   "codemirror_mode": {
    "name": "ipython",
    "version": 3
   },
   "file_extension": ".py",
   "mimetype": "text/x-python",
   "name": "python",
   "nbconvert_exporter": "python",
   "pygments_lexer": "ipython3",
   "version": "3.8.8"
  },
  "varInspector": {
   "cols": {
    "lenName": 16,
    "lenType": 16,
    "lenVar": 40
   },
   "kernels_config": {
    "python": {
     "delete_cmd_postfix": "",
     "delete_cmd_prefix": "del ",
     "library": "var_list.py",
     "varRefreshCmd": "print(var_dic_list())"
    },
    "r": {
     "delete_cmd_postfix": ") ",
     "delete_cmd_prefix": "rm(",
     "library": "var_list.r",
     "varRefreshCmd": "cat(var_dic_list()) "
    }
   },
   "types_to_exclude": [
    "module",
    "function",
    "builtin_function_or_method",
    "instance",
    "_Feature"
   ],
   "window_display": false
  }
 },
 "nbformat": 4,
 "nbformat_minor": 5
}
