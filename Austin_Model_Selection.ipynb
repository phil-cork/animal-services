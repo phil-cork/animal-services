{
 "cells": [
  {
   "cell_type": "code",
   "execution_count": 2,
   "id": "063ce0c7",
   "metadata": {},
   "outputs": [],
   "source": [
    "import pandas as pd\n",
    "import numpy as np\n",
    "import random\n",
    "\n",
    "# Plotting libraries\n",
    "from plotnine import *\n",
    "import matplotlib.pyplot as plt\n",
    "\n",
    "# For pre-processing data \n",
    "from sklearn import preprocessing as pp \n",
    "from sklearn.compose import ColumnTransformer \n",
    "\n",
    "# For splits and CV\n",
    "from sklearn.model_selection import train_test_split\n",
    "from sklearn.model_selection import KFold # Cross validation \n",
    "from sklearn.model_selection import cross_validate # Cross validation \n",
    "from sklearn.model_selection import GridSearchCV # Cross validation + param. tuning.\n",
    "\n",
    "# Machine learning methods \n",
    "from sklearn.naive_bayes import GaussianNB as NB\n",
    "from sklearn.neighbors import KNeighborsClassifier as KNN\n",
    "from sklearn.tree import DecisionTreeClassifier as DT\n",
    "from sklearn.ensemble import RandomForestClassifier as RF\n",
    "from sklearn import svm as svm\n",
    "\n",
    "# For evaluating our model's performance\n",
    "import sklearn.metrics as m\n",
    "\n",
    "# Pipeline to combine modeling elements\n",
    "from sklearn.pipeline import Pipeline\n",
    "\n",
    "# Misc\n",
    "import warnings\n",
    "warnings.filterwarnings(\"ignore\")\n",
    "random.seed(1137)"
   ]
  },
  {
   "cell_type": "code",
   "execution_count": 3,
   "id": "5ec98185",
   "metadata": {},
   "outputs": [],
   "source": [
    "austin = pd.read_csv('data/processed/austin_dv.csv')\n",
    "\n",
    "# fill in missing ages with the median age\n",
    "austin['age_days'].fillna(austin['age_days'].median(), inplace=True)\n",
    "\n",
    "# Split the data into a training and test dataset partitioning 75% of the data into the training data, and\n",
    "# holding out 25% of the data as a test set.\n",
    "\n",
    "y = austin[['euthanasia']]\n",
    "X = austin.drop(columns=['euthanasia'])\n",
    "\n",
    "train_X, test_X, train_y, test_y = train_test_split(X,y,test_size = .25, random_state=1137)"
   ]
  },
  {
   "cell_type": "code",
   "execution_count": 4,
   "id": "45d39620",
   "metadata": {},
   "outputs": [],
   "source": [
    "fold_generator = KFold(n_splits=10, shuffle=True, random_state=1137)\n",
    "\n",
    "pipe = Pipeline(steps=[('pre_process', pp.MinMaxScaler()),('model',None)])\n",
    "\n",
    "# provide the grid search the models and parameters to evaluate\n",
    "search_space = [\n",
    "    \n",
    "    # NaiveBayes\n",
    "    {'model': [NB()]},\n",
    "    \n",
    "    # KNN with K tuning param\n",
    "    {'model' : [KNN()],\n",
    "     'model__n_neighbors':[25,50]},\n",
    "    \n",
    "    # SVM with linear and polynomial kernels\n",
    "    {'model': [svm.SVC()],\n",
    "    'model__kernel': ['linear','poly']},\n",
    "    \n",
    "    # Random forest with the N Estimators tuning param\n",
    "    {'model' : [RF()],\n",
    "    'model__max_depth':[2,3,4],\n",
    "    'model__n_estimators':[500,1000]}\n",
    "    \n",
    "]"
   ]
  },
  {
   "cell_type": "code",
   "execution_count": 5,
   "id": "6f3f198e",
   "metadata": {},
   "outputs": [],
   "source": [
    "\n",
    "search = GridSearchCV(pipe, search_space, \n",
    "                      cv = fold_generator,\n",
    "                      scoring='roc_auc',\n",
    "                      n_jobs=4)"
   ]
  },
  {
   "cell_type": "code",
   "execution_count": 6,
   "id": "82ff4437",
   "metadata": {},
   "outputs": [
    {
     "data": {
      "text/plain": [
       "GridSearchCV(cv=KFold(n_splits=10, random_state=1137, shuffle=True),\n",
       "             estimator=Pipeline(steps=[('pre_process', MinMaxScaler()),\n",
       "                                       ('model', None)]),\n",
       "             n_jobs=4,\n",
       "             param_grid=[{'model': [GaussianNB()]},\n",
       "                         {'model': [KNeighborsClassifier()],\n",
       "                          'model__n_neighbors': [25, 50]},\n",
       "                         {'model': [SVC()],\n",
       "                          'model__kernel': ['linear', 'poly']},\n",
       "                         {'model': [RandomForestClassifier(max_depth=4,\n",
       "                                                           n_estimators=1000)],\n",
       "                          'model__max_depth': [2, 3, 4],\n",
       "                          'model__n_estimators': [500, 1000]}],\n",
       "             scoring='roc_auc')"
      ]
     },
     "execution_count": 6,
     "metadata": {},
     "output_type": "execute_result"
    }
   ],
   "source": [
    "search.fit(train_X,train_y.euthanasia)"
   ]
  },
  {
   "cell_type": "code",
   "execution_count": 7,
   "id": "3050f5fb",
   "metadata": {},
   "outputs": [
    {
     "data": {
      "text/plain": [
       "{'model': RandomForestClassifier(max_depth=4, n_estimators=1000),\n",
       " 'model__max_depth': 4,\n",
       " 'model__n_estimators': 1000}"
      ]
     },
     "execution_count": 7,
     "metadata": {},
     "output_type": "execute_result"
    }
   ],
   "source": [
    "search.best_params_"
   ]
  },
  {
   "cell_type": "code",
   "execution_count": 8,
   "id": "31c61c44",
   "metadata": {},
   "outputs": [
    {
     "data": {
      "text/html": [
       "<div>\n",
       "<style scoped>\n",
       "    .dataframe tbody tr th:only-of-type {\n",
       "        vertical-align: middle;\n",
       "    }\n",
       "\n",
       "    .dataframe tbody tr th {\n",
       "        vertical-align: top;\n",
       "    }\n",
       "\n",
       "    .dataframe thead th {\n",
       "        text-align: right;\n",
       "    }\n",
       "</style>\n",
       "<table border=\"1\" class=\"dataframe\">\n",
       "  <thead>\n",
       "    <tr style=\"text-align: right;\">\n",
       "      <th></th>\n",
       "      <th>model</th>\n",
       "      <th>mean_test_score</th>\n",
       "      <th>mean_st_err</th>\n",
       "      <th>low</th>\n",
       "      <th>high</th>\n",
       "      <th>max</th>\n",
       "    </tr>\n",
       "  </thead>\n",
       "  <tbody>\n",
       "    <tr>\n",
       "      <th>0</th>\n",
       "      <td>GaussianNB</td>\n",
       "      <td>0.510361</td>\n",
       "      <td>0.008002</td>\n",
       "      <td>0.494357</td>\n",
       "      <td>0.526364</td>\n",
       "      <td>False</td>\n",
       "    </tr>\n",
       "    <tr>\n",
       "      <th>1</th>\n",
       "      <td>KNN, neighbors:25</td>\n",
       "      <td>0.697303</td>\n",
       "      <td>0.016272</td>\n",
       "      <td>0.664758</td>\n",
       "      <td>0.729847</td>\n",
       "      <td>False</td>\n",
       "    </tr>\n",
       "    <tr>\n",
       "      <th>2</th>\n",
       "      <td>KNN, neighbors:50</td>\n",
       "      <td>0.724768</td>\n",
       "      <td>0.016967</td>\n",
       "      <td>0.690834</td>\n",
       "      <td>0.758702</td>\n",
       "      <td>False</td>\n",
       "    </tr>\n",
       "    <tr>\n",
       "      <th>3</th>\n",
       "      <td>SVM, kernel:linear</td>\n",
       "      <td>0.539634</td>\n",
       "      <td>0.014257</td>\n",
       "      <td>0.511119</td>\n",
       "      <td>0.568148</td>\n",
       "      <td>False</td>\n",
       "    </tr>\n",
       "    <tr>\n",
       "      <th>4</th>\n",
       "      <td>SVM, kernel:poly</td>\n",
       "      <td>0.642863</td>\n",
       "      <td>0.013390</td>\n",
       "      <td>0.616083</td>\n",
       "      <td>0.669642</td>\n",
       "      <td>False</td>\n",
       "    </tr>\n",
       "    <tr>\n",
       "      <th>5</th>\n",
       "      <td>RandomForest, maxdepth:2, trees:500</td>\n",
       "      <td>0.771076</td>\n",
       "      <td>0.025073</td>\n",
       "      <td>0.720931</td>\n",
       "      <td>0.821221</td>\n",
       "      <td>False</td>\n",
       "    </tr>\n",
       "    <tr>\n",
       "      <th>6</th>\n",
       "      <td>RandomForest, maxdepth:2, trees:1000</td>\n",
       "      <td>0.772376</td>\n",
       "      <td>0.023755</td>\n",
       "      <td>0.724866</td>\n",
       "      <td>0.819886</td>\n",
       "      <td>False</td>\n",
       "    </tr>\n",
       "    <tr>\n",
       "      <th>7</th>\n",
       "      <td>RandomForest, maxdepth:3, trees:500</td>\n",
       "      <td>0.775060</td>\n",
       "      <td>0.023576</td>\n",
       "      <td>0.727908</td>\n",
       "      <td>0.822212</td>\n",
       "      <td>False</td>\n",
       "    </tr>\n",
       "    <tr>\n",
       "      <th>8</th>\n",
       "      <td>RandomForest, maxdepth:3, trees:1000</td>\n",
       "      <td>0.777115</td>\n",
       "      <td>0.023925</td>\n",
       "      <td>0.729265</td>\n",
       "      <td>0.824965</td>\n",
       "      <td>False</td>\n",
       "    </tr>\n",
       "    <tr>\n",
       "      <th>9</th>\n",
       "      <td>RandomForest, maxdepth:4, trees:500</td>\n",
       "      <td>0.777642</td>\n",
       "      <td>0.022066</td>\n",
       "      <td>0.733510</td>\n",
       "      <td>0.821774</td>\n",
       "      <td>False</td>\n",
       "    </tr>\n",
       "    <tr>\n",
       "      <th>10</th>\n",
       "      <td>RandomForest, maxdepth:4, trees:1000</td>\n",
       "      <td>0.779686</td>\n",
       "      <td>0.022209</td>\n",
       "      <td>0.735267</td>\n",
       "      <td>0.824105</td>\n",
       "      <td>True</td>\n",
       "    </tr>\n",
       "  </tbody>\n",
       "</table>\n",
       "</div>"
      ],
      "text/plain": [
       "                                   model  mean_test_score  mean_st_err  \\\n",
       "0                             GaussianNB         0.510361     0.008002   \n",
       "1                      KNN, neighbors:25         0.697303     0.016272   \n",
       "2                      KNN, neighbors:50         0.724768     0.016967   \n",
       "3                     SVM, kernel:linear         0.539634     0.014257   \n",
       "4                       SVM, kernel:poly         0.642863     0.013390   \n",
       "5    RandomForest, maxdepth:2, trees:500         0.771076     0.025073   \n",
       "6   RandomForest, maxdepth:2, trees:1000         0.772376     0.023755   \n",
       "7    RandomForest, maxdepth:3, trees:500         0.775060     0.023576   \n",
       "8   RandomForest, maxdepth:3, trees:1000         0.777115     0.023925   \n",
       "9    RandomForest, maxdepth:4, trees:500         0.777642     0.022066   \n",
       "10  RandomForest, maxdepth:4, trees:1000         0.779686     0.022209   \n",
       "\n",
       "         low      high    max  \n",
       "0   0.494357  0.526364  False  \n",
       "1   0.664758  0.729847  False  \n",
       "2   0.690834  0.758702  False  \n",
       "3   0.511119  0.568148  False  \n",
       "4   0.616083  0.669642  False  \n",
       "5   0.720931  0.821221  False  \n",
       "6   0.724866  0.819886  False  \n",
       "7   0.727908  0.822212  False  \n",
       "8   0.729265  0.824965  False  \n",
       "9   0.733510  0.821774  False  \n",
       "10  0.735267  0.824105   True  "
      ]
     },
     "execution_count": 8,
     "metadata": {},
     "output_type": "execute_result"
    }
   ],
   "source": [
    "# take the mean test scores and the standard errors for the scores for creating the output visualization\n",
    "scores = search.cv_results_.get('mean_test_score')\n",
    "errors = search.cv_results_.get('std_test_score')\n",
    "\n",
    "search.cv_results_.get('params')\n",
    "\n",
    "models = [\n",
    "    'GaussianNB',\n",
    "    'KNN, neighbors:25',\n",
    "    'KNN, neighbors:50',\n",
    "    'SVM, kernel:linear',\n",
    "    'SVM, kernel:poly',\n",
    "    'RandomForest, maxdepth:2, trees:500',\n",
    "    'RandomForest, maxdepth:2, trees:1000',\n",
    "    'RandomForest, maxdepth:3, trees:500',\n",
    "    'RandomForest, maxdepth:3, trees:1000',\n",
    "    'RandomForest, maxdepth:4, trees:500',\n",
    "    'RandomForest, maxdepth:4, trees:1000'\n",
    "]\n",
    "\n",
    "# create a dataframe of the models, scores, and errors\n",
    "d = {'model':models, 'mean_test_score':scores, 'mean_st_err':errors}\n",
    "table = pd.DataFrame(data=d)\n",
    "\n",
    "# create confidence intervals for the mean test score results\n",
    "table['low'] = table['mean_test_score'] - 2*table['mean_st_err']\n",
    "table['high'] = table['mean_test_score'] + 2*table['mean_st_err']\n",
    "table['max'] = (table['mean_test_score'] == table['mean_test_score'].max())\n",
    "\n",
    "table"
   ]
  },
  {
   "cell_type": "code",
   "execution_count": 9,
   "id": "25415463",
   "metadata": {},
   "outputs": [
    {
     "data": {
      "image/png": "[encoded data removed]",
      "text/plain": [
       "<Figure size 640x480 with 1 Axes>"
      ]
     },
     "metadata": {
      "needs_background": "light"
     },
     "output_type": "display_data"
    },
    {
     "data": {
      "text/plain": [
       "<ggplot: (8763929469504)>"
      ]
     },
     "execution_count": 9,
     "metadata": {},
     "output_type": "execute_result"
    }
   ],
   "source": [
    "# plot the average test score results\n",
    "(\n",
    "ggplot(table, aes(x='model', y='mean_test_score',\n",
    "                  fill='max')) + \n",
    "    geom_col() + \n",
    "    geom_errorbar(aes(ymin=\"low\",ymax=\"high\"),width=.4) + \n",
    "    scale_fill_manual(values=('darkgray','#2ecc71'), guide=None) + \n",
    "    scale_x_discrete(limits=(\n",
    "    'RandomForest, maxdepth:4, trees:1000',\n",
    "    'RandomForest, maxdepth:4, trees:500',    \n",
    "    'RandomForest, maxdepth:3, trees:1000', \n",
    "    'RandomForest, maxdepth:3, trees:500',\n",
    "    'RandomForest, maxdepth:2, trees:1000',\n",
    "    'RandomForest, maxdepth:2, trees:500',\n",
    "    'SVM, kernel:poly',\n",
    "    'SVM, kernel:linear',\n",
    "    'KNN, neighbors:50',\n",
    "    'KNN, neighbors:25',\n",
    "    'GaussianNB'\n",
    "    )) + \n",
    "    coord_flip() + \n",
    "    labs(x='', y='Mean Test Score', title='Mean Test Score, Austin Training Data') + \n",
    "    theme_minimal()\n",
    ")"
   ]
  }
 ],
 "metadata": {
  "kernelspec": {
   "display_name": "Python 3",
   "language": "python",
   "name": "python3"
  },
  "language_info": {
   "codemirror_mode": {
    "name": "ipython",
    "version": 3
   },
   "file_extension": ".py",
   "mimetype": "text/x-python",
   "name": "python",
   "nbconvert_exporter": "python",
   "pygments_lexer": "ipython3",
   "version": "3.8.8"
  },
  "varInspector": {
   "cols": {
    "lenName": 16,
    "lenType": 16,
    "lenVar": 40
   },
   "kernels_config": {
    "python": {
     "delete_cmd_postfix": "",
     "delete_cmd_prefix": "del ",
     "library": "var_list.py",
     "varRefreshCmd": "print(var_dic_list())"
    },
    "r": {
     "delete_cmd_postfix": ") ",
     "delete_cmd_prefix": "rm(",
     "library": "var_list.r",
     "varRefreshCmd": "cat(var_dic_list()) "
    }
   },
   "types_to_exclude": [
    "module",
    "function",
    "builtin_function_or_method",
    "instance",
    "_Feature"
   ],
   "window_display": false
  }
 },
 "nbformat": 4,
 "nbformat_minor": 5
}
