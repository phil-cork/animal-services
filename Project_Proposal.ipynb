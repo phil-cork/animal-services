{
 "cells": [
  {
   "cell_type": "markdown",
   "id": "7e26b27a",
   "metadata": {},
   "source": [
    "# PROJECT PROPOSAL\n",
    "\n",
    "### Project Overview\n",
    "\n",
    "This project will analyze the comparative effectiveness city-operated animal shelters and seek to predict the recorded outcomes on an individual animal basis to identify opportunities for further improvements. \n",
    "\n",
    "#### City-Level Annual Outcome Analysis\n",
    "\n",
    "The city of Austin, TX operates the nation's largest \"no-kill\" animal shelter[<sup>1</sup>](#fn1), relatively unique among many public operated shelters. Meanwhile, Dallas, TX has long faced concerns over the population of stray or feral dogs in their community[<sup>2</sup>](#fn2). \n",
    "\n",
    "Controlling for demographic and budgetary differences, has Austin's \"no-kill\" policy been effective relative to their allocated resources? If so, how could Dallas model this policy effectively? If not, what insights might further Austin's goals of providing a public-operated \"no-kill\" shelter?\n",
    "\n",
    "#### Predicting Animal Outcomes\n",
    "\n",
    "At a more granular level, each animal brought into a shelter faces a different experience based on factors such as age, health, and breed. Even those that are adopted can spend years within the system. Can the historic data of how different animals fare in the animal shelter system inform the likelihood of other animals to face similar outcomes?"
   ]
  },
  {
   "cell_type": "markdown",
   "id": "436cf249",
   "metadata": {},
   "source": [
    "### Data Sources & Acquisition\n",
    "\n",
    "Both Austin[<sup>3</sup>](#fn3) and Dallas[<sup>4</sup>](#fn4) provide data regarding the outcome for each animal per year through fiscal years dating back to 2014 via the Open Data portal. Two other cities - Bloomington, IN[<sup>5</sup>](#fn5) and Louisville, KY[<sup>6</sup>](#fn6) - also make similar datasets available, allowing for comparing to Dallas in terms of whether its outcomes are in line with other public animal shelters that are not strictly \"no kill.\"\n",
    "\n",
    "Shelter Animals Count also offers a limited, free sample of their database that includes annual intake and outcome statistics at the state per year level, which will serve as baseline measurements.\n",
    "\n",
    "For demographic data, the U.S. Census Bureau offers myriad demographic statistics that could potentially be scraped from their website or downloaded via CSV.\n",
    "\n",
    "Finally, budgetary data is available from each city, typically in the form of a PDF[<sup>7</sup>](#fn7). While it may be possible to scrape the data, these statistics will likely need to be manually extracted."
   ]
  },
  {
   "cell_type": "markdown",
   "id": "2be7023f",
   "metadata": {},
   "source": [
    "### Methodology\n",
    "\n",
    "While similar in purpose, each Animal Services Intake datasets will require formatting to unify the columns and categorical entries. For the demographic and budgetary analysis, the unit of analysis will be aggregated to annual observations to identify larger trends.\n",
    "\n",
    "At the city-year level, visualizations will be created to highlight trends comparing each shelter over time. For predicting individual outcomes, visualizing various categorical dimensions will be deployed to observe further underlying patterns.\n",
    "\n",
    "To predict the outcomes of a given animal in the public shelter system, this project will deploy a sample of classification models to test model fit and evaluate each algorithm’s capabilities along the spectrum of identification and interpretability.\n"
   ]
  },
  {
   "cell_type": "markdown",
   "id": "dc07560d",
   "metadata": {},
   "source": [
    "### Definition of Success\n",
    "\n",
    "The success of this project will hinge on several factors.\n",
    "\n",
    "- The success to which the data wrangling stage allows for noteworthy comparisons to be drawn between disparate programs.\n",
    "- Identifying actionable trends in predicting the outcome of individual observations.\n",
    "- Evaluating the range of models deployed and interpreting the underlying principles determining their effectiveness."
   ]
  },
  {
   "cell_type": "markdown",
   "id": "89d8bb06",
   "metadata": {},
   "source": [
    "*** \n",
    "\n",
    "#### Footnotes:\n",
    "1. <span id=\"fn1\"> http://www.austintexas.gov/department/austin-animal-center-0</span>\n",
    "2. <span id=\"fn2\"> https://www.latimes.com/nation/la-na-stray-dogs-20160915-snap-story.html</span>\n",
    "3. <span id=\"fn3\"> https://data.austintexas.gov/Health-and-Community-Services/Austin-Animal-Center-Outcomes/9t4d-g238</span>\n",
    "4. <span id=\"fn4\"> https://www.dallasopendata.com/Services/Dallas-Animal-Shelter-Data-Fiscal-Year-2019-2020/7h2m-3um5</span>\n",
    "5. <span id=\"fn5\"> https://bloomington.data.socrata.com/dataset/Animal-Shelter-Animals/e245-r9ub</span>\n",
    "6. <span id=\"fn6\"> https://data.louisvilleky.gov/dataset/animal-service-intake-and-outcome</span>\n",
    "7. <span id=\"fn5\"> https://dallascityhall.com/departments/budget/financialtransparency/Pages/Prior-Budgets.aspx</span>"
   ]
  }
 ],
 "metadata": {
  "kernelspec": {
   "display_name": "Python 3",
   "language": "python",
   "name": "python3"
  },
  "language_info": {
   "codemirror_mode": {
    "name": "ipython",
    "version": 3
   },
   "file_extension": ".py",
   "mimetype": "text/x-python",
   "name": "python",
   "nbconvert_exporter": "python",
   "pygments_lexer": "ipython3",
   "version": "3.8.8"
  }
 },
 "nbformat": 4,
 "nbformat_minor": 5
}
