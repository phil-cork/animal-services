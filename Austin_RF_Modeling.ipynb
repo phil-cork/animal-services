{
 "cells": [
  {
   "cell_type": "code",
   "execution_count": 5,
   "id": "8b237d0b",
   "metadata": {},
   "outputs": [],
   "source": [
    "import pandas as pd\n",
    "import random\n",
    "import numpy as np\n",
    "\n",
    "# Plotting libraries\n",
    "from plotnine import *\n",
    "import matplotlib.pyplot as plt\n",
    "\n",
    "# For pre-processing data \n",
    "from sklearn import preprocessing as pp \n",
    "from sklearn.compose import ColumnTransformer \n",
    "\n",
    "# For splits and CV\n",
    "from sklearn.model_selection import train_test_split\n",
    "from sklearn.model_selection import KFold # Cross validation \n",
    "from sklearn.model_selection import cross_validate # Cross validation \n",
    "from sklearn.model_selection import GridSearchCV # Cross validation + param. tuning.\n",
    "\n",
    "# Machine learning methods \n",
    "from sklearn.naive_bayes import GaussianNB as NB\n",
    "from sklearn.neighbors import KNeighborsClassifier as KNN\n",
    "from sklearn.tree import DecisionTreeClassifier as DT\n",
    "from sklearn.tree import DecisionTreeRegressor as DT_reg\n",
    "from sklearn.ensemble import RandomForestClassifier as RF\n",
    "from sklearn import tree # For plotting the decision tree rules\n",
    "from sklearn import svm as svm\n",
    "\n",
    "# For evaluating our model's performance\n",
    "import sklearn.metrics as m\n",
    "\n",
    "# Pipeline to combine modeling elements\n",
    "from sklearn.pipeline import Pipeline\n",
    "\n",
    "# For model interpretation\n",
    "from sklearn.inspection import (\n",
    "    permutation_importance,\n",
    "    partial_dependence, \n",
    "    PartialDependenceDisplay, \n",
    "    plot_partial_dependence\n",
    ")\n",
    "\n",
    "from sklearn.decomposition import PCA \n",
    "\n",
    "\n",
    "# Misc\n",
    "import warnings\n",
    "warnings.filterwarnings(\"ignore\")\n",
    "random.seed(1137)"
   ]
  },
  {
   "cell_type": "markdown",
   "id": "f03e0e37",
   "metadata": {},
   "source": [
    "## Austin Dataset - Default"
   ]
  },
  {
   "cell_type": "code",
   "execution_count": 232,
   "id": "680d8e19",
   "metadata": {},
   "outputs": [],
   "source": [
    "austin = pd.read_csv('data/processed/austin_dv.csv')\n",
    "\n",
    "austin['age_days'].fillna(austin['age_days'].median(), inplace=True)"
   ]
  },
  {
   "cell_type": "code",
   "execution_count": 234,
   "id": "50665641",
   "metadata": {},
   "outputs": [],
   "source": [
    "# Split the data into a training and test dataset partitioning 75% of the data into the training data, and\n",
    "# holding out 25% of the data as a test set. Set a seed to replicate your split.\n",
    "\n",
    "\n",
    "y = austin[['euthanasia']]\n",
    "X = austin.drop(columns=['euthanasia'])\n",
    "\n",
    "train_X, test_X, train_y, test_y = train_test_split(X,y,test_size = .25, random_state=1137)"
   ]
  },
  {
   "cell_type": "markdown",
   "id": "91e8dd2c",
   "metadata": {},
   "source": [
    "## RF Model Implementation"
   ]
  },
  {
   "cell_type": "code",
   "execution_count": 235,
   "id": "3bade5dd",
   "metadata": {},
   "outputs": [],
   "source": [
    "# Used throughout each model, doesn't need to be reset each time\n",
    "\n",
    "fold_generator = KFold(n_splits=10, shuffle=True, random_state=1137)\n",
    "\n",
    "pipe = Pipeline(steps=[('pre_process', pp.MinMaxScaler()),('model',None)])\n",
    "\n",
    "\n",
    "search_space = [\n",
    "\n",
    "        # Random forest with the N Estimators tuning param\n",
    "    {'model' : [RF()],\n",
    "    'model__max_depth':[5,10,15,20],\n",
    "    'model__n_estimators':[500,1000],\n",
    "    'model__random_state':[1137]},\n",
    "]"
   ]
  },
  {
   "cell_type": "markdown",
   "id": "2c0dbcb3",
   "metadata": {},
   "source": [
    "## Model Fitting & Evaluation - Default"
   ]
  },
  {
   "cell_type": "code",
   "execution_count": 236,
   "id": "15afd792",
   "metadata": {},
   "outputs": [],
   "source": [
    "search = GridSearchCV(pipe, search_space, \n",
    "                      cv = fold_generator,\n",
    "                      scoring='roc_auc',\n",
    "                      n_jobs=4)"
   ]
  },
  {
   "cell_type": "code",
   "execution_count": 237,
   "id": "b11fe8a5",
   "metadata": {},
   "outputs": [
    {
     "data": {
      "text/plain": [
       "GridSearchCV(cv=KFold(n_splits=10, random_state=1137, shuffle=True),\n",
       "             estimator=Pipeline(steps=[('pre_process', MinMaxScaler()),\n",
       "                                       ('model', None)]),\n",
       "             n_jobs=4,\n",
       "             param_grid=[{'model': [RandomForestClassifier(max_depth=20,\n",
       "                                                           n_estimators=1000,\n",
       "                                                           random_state=1137)],\n",
       "                          'model__max_depth': [5, 10, 15, 20],\n",
       "                          'model__n_estimators': [500, 1000],\n",
       "                          'model__random_state': [1137]}],\n",
       "             scoring='roc_auc')"
      ]
     },
     "execution_count": 237,
     "metadata": {},
     "output_type": "execute_result"
    }
   ],
   "source": [
    "search.fit(train_X,train_y.euthanasia)"
   ]
  },
  {
   "cell_type": "code",
   "execution_count": 238,
   "id": "8b4cad35",
   "metadata": {},
   "outputs": [
    {
     "data": {
      "text/plain": [
       "0.8075770598900185"
      ]
     },
     "execution_count": 238,
     "metadata": {},
     "output_type": "execute_result"
    }
   ],
   "source": [
    "search.best_score_"
   ]
  },
  {
   "cell_type": "code",
   "execution_count": 239,
   "id": "a5a03189",
   "metadata": {},
   "outputs": [
    {
     "data": {
      "text/plain": [
       "{'model': RandomForestClassifier(max_depth=20, n_estimators=1000, random_state=1137),\n",
       " 'model__max_depth': 20,\n",
       " 'model__n_estimators': 1000,\n",
       " 'model__random_state': 1137}"
      ]
     },
     "execution_count": 239,
     "metadata": {},
     "output_type": "execute_result"
    }
   ],
   "source": [
    "search.best_params_"
   ]
  },
  {
   "cell_type": "code",
   "execution_count": 240,
   "id": "7e2c1731",
   "metadata": {},
   "outputs": [],
   "source": [
    "rf_mod = search.best_estimator_"
   ]
  },
  {
   "cell_type": "code",
   "execution_count": 241,
   "id": "ebafc3aa",
   "metadata": {},
   "outputs": [
    {
     "data": {
      "text/plain": [
       "0.9318365077778359"
      ]
     },
     "execution_count": 241,
     "metadata": {},
     "output_type": "execute_result"
    }
   ],
   "source": [
    "m.roc_auc_score(train_y,rf_mod.predict_proba(train_X)[:,1])"
   ]
  },
  {
   "cell_type": "code",
   "execution_count": 242,
   "id": "72435cde",
   "metadata": {},
   "outputs": [
    {
     "data": {
      "text/plain": [
       "0.9823213670162998"
      ]
     },
     "execution_count": 242,
     "metadata": {},
     "output_type": "execute_result"
    }
   ],
   "source": [
    "m.accuracy_score(train_y,rf_mod.predict(train_X))"
   ]
  },
  {
   "cell_type": "markdown",
   "id": "f826f31b",
   "metadata": {},
   "source": [
    "### Compare Model Mean Test Scores - Default"
   ]
  },
  {
   "cell_type": "code",
   "execution_count": 243,
   "id": "e88c57ad",
   "metadata": {
    "scrolled": true
   },
   "outputs": [
    {
     "data": {
      "text/html": [
       "<div>\n",
       "<style scoped>\n",
       "    .dataframe tbody tr th:only-of-type {\n",
       "        vertical-align: middle;\n",
       "    }\n",
       "\n",
       "    .dataframe tbody tr th {\n",
       "        vertical-align: top;\n",
       "    }\n",
       "\n",
       "    .dataframe thead th {\n",
       "        text-align: right;\n",
       "    }\n",
       "</style>\n",
       "<table border=\"1\" class=\"dataframe\">\n",
       "  <thead>\n",
       "    <tr style=\"text-align: right;\">\n",
       "      <th></th>\n",
       "      <th>model</th>\n",
       "      <th>mean_test_score</th>\n",
       "      <th>mean_st_err</th>\n",
       "      <th>low</th>\n",
       "      <th>high</th>\n",
       "      <th>max</th>\n",
       "    </tr>\n",
       "  </thead>\n",
       "  <tbody>\n",
       "    <tr>\n",
       "      <th>0</th>\n",
       "      <td>RandomForest, maxdepth:5, trees:500</td>\n",
       "      <td>0.782381</td>\n",
       "      <td>0.022098</td>\n",
       "      <td>0.738185</td>\n",
       "      <td>0.826577</td>\n",
       "      <td>False</td>\n",
       "    </tr>\n",
       "    <tr>\n",
       "      <th>1</th>\n",
       "      <td>RandomForest, maxdepth:5, trees:1000</td>\n",
       "      <td>0.782567</td>\n",
       "      <td>0.022049</td>\n",
       "      <td>0.738468</td>\n",
       "      <td>0.826665</td>\n",
       "      <td>False</td>\n",
       "    </tr>\n",
       "    <tr>\n",
       "      <th>2</th>\n",
       "      <td>RandomForest, maxdepth:10, trees:500</td>\n",
       "      <td>0.795118</td>\n",
       "      <td>0.020569</td>\n",
       "      <td>0.753981</td>\n",
       "      <td>0.836256</td>\n",
       "      <td>False</td>\n",
       "    </tr>\n",
       "    <tr>\n",
       "      <th>3</th>\n",
       "      <td>RandomForest, maxdepth:10, trees:1000</td>\n",
       "      <td>0.795709</td>\n",
       "      <td>0.020290</td>\n",
       "      <td>0.755128</td>\n",
       "      <td>0.836289</td>\n",
       "      <td>False</td>\n",
       "    </tr>\n",
       "    <tr>\n",
       "      <th>4</th>\n",
       "      <td>RandomForest, maxdepth:15, trees:500</td>\n",
       "      <td>0.804695</td>\n",
       "      <td>0.020804</td>\n",
       "      <td>0.763088</td>\n",
       "      <td>0.846302</td>\n",
       "      <td>False</td>\n",
       "    </tr>\n",
       "    <tr>\n",
       "      <th>5</th>\n",
       "      <td>RandomForest, maxdepth:15, trees:1000</td>\n",
       "      <td>0.804810</td>\n",
       "      <td>0.020180</td>\n",
       "      <td>0.764450</td>\n",
       "      <td>0.845170</td>\n",
       "      <td>False</td>\n",
       "    </tr>\n",
       "    <tr>\n",
       "      <th>6</th>\n",
       "      <td>RandomForest, maxdepth:20, trees:500</td>\n",
       "      <td>0.806694</td>\n",
       "      <td>0.020423</td>\n",
       "      <td>0.765848</td>\n",
       "      <td>0.847540</td>\n",
       "      <td>False</td>\n",
       "    </tr>\n",
       "    <tr>\n",
       "      <th>7</th>\n",
       "      <td>RandomForest, maxdepth:20, trees:1000</td>\n",
       "      <td>0.807577</td>\n",
       "      <td>0.020575</td>\n",
       "      <td>0.766427</td>\n",
       "      <td>0.848727</td>\n",
       "      <td>True</td>\n",
       "    </tr>\n",
       "  </tbody>\n",
       "</table>\n",
       "</div>"
      ],
      "text/plain": [
       "                                   model  mean_test_score  mean_st_err  \\\n",
       "0    RandomForest, maxdepth:5, trees:500         0.782381     0.022098   \n",
       "1   RandomForest, maxdepth:5, trees:1000         0.782567     0.022049   \n",
       "2   RandomForest, maxdepth:10, trees:500         0.795118     0.020569   \n",
       "3  RandomForest, maxdepth:10, trees:1000         0.795709     0.020290   \n",
       "4   RandomForest, maxdepth:15, trees:500         0.804695     0.020804   \n",
       "5  RandomForest, maxdepth:15, trees:1000         0.804810     0.020180   \n",
       "6   RandomForest, maxdepth:20, trees:500         0.806694     0.020423   \n",
       "7  RandomForest, maxdepth:20, trees:1000         0.807577     0.020575   \n",
       "\n",
       "        low      high    max  \n",
       "0  0.738185  0.826577  False  \n",
       "1  0.738468  0.826665  False  \n",
       "2  0.753981  0.836256  False  \n",
       "3  0.755128  0.836289  False  \n",
       "4  0.763088  0.846302  False  \n",
       "5  0.764450  0.845170  False  \n",
       "6  0.765848  0.847540  False  \n",
       "7  0.766427  0.848727   True  "
      ]
     },
     "execution_count": 243,
     "metadata": {},
     "output_type": "execute_result"
    }
   ],
   "source": [
    "# Mean Test Score Comparison Table Creation\n",
    "\n",
    "scores = search.cv_results_.get('mean_test_score')\n",
    "errors = search.cv_results_.get('std_test_score')\n",
    "\n",
    "search.cv_results_.get('params')\n",
    "models = [\n",
    "    'RandomForest, maxdepth:5, trees:500',\n",
    "    'RandomForest, maxdepth:5, trees:1000',\n",
    "    'RandomForest, maxdepth:10, trees:500',\n",
    "    'RandomForest, maxdepth:10, trees:1000',\n",
    "        'RandomForest, maxdepth:15, trees:500',\n",
    "    'RandomForest, maxdepth:15, trees:1000',\n",
    "        'RandomForest, maxdepth:20, trees:500',\n",
    "    'RandomForest, maxdepth:20, trees:1000',\n",
    "]\n",
    "\n",
    "d = {'model':models, 'mean_test_score':scores, 'mean_st_err':errors}\n",
    "table = pd.DataFrame(data=d)\n",
    "\n",
    "table['low'] = table['mean_test_score'] - 2*table['mean_st_err']\n",
    "table['high'] = table['mean_test_score'] + 2*table['mean_st_err']\n",
    "table['max'] = (table['mean_test_score'] == table['mean_test_score'].max())\n",
    "\n",
    "#table.to_csv('model_test_score_table_noPCA.csv', index=False)\n",
    "table"
   ]
  },
  {
   "cell_type": "code",
   "execution_count": 244,
   "id": "780d9c59",
   "metadata": {},
   "outputs": [
    {
     "data": {
      "image/png": "[encoded data removed]",
      "text/plain": [
       "<Figure size 640x480 with 1 Axes>"
      ]
     },
     "metadata": {
      "needs_background": "light"
     },
     "output_type": "display_data"
    },
    {
     "data": {
      "text/plain": [
       "<ggplot: (8774203960748)>"
      ]
     },
     "execution_count": 244,
     "metadata": {},
     "output_type": "execute_result"
    }
   ],
   "source": [
    "(\n",
    "ggplot(table, aes(x='model', y='mean_test_score',\n",
    "                  fill='max')) + \n",
    "    geom_col() + \n",
    "    geom_errorbar(aes(ymin=\"low\",ymax=\"high\"),width=.4) + \n",
    "    scale_fill_manual(values=('darkgray','#2ecc71'), guide=None) + \n",
    "    coord_flip() + \n",
    "    labs(x='', y='Mean Test Score', title='Mean Test Score, Default Model') + \n",
    "    theme_minimal()\n",
    ")"
   ]
  },
  {
   "cell_type": "markdown",
   "id": "7cd58afd",
   "metadata": {},
   "source": [
    "### Plot & Evaluated Predicted Probabilities - Default"
   ]
  },
  {
   "cell_type": "code",
   "execution_count": 162,
   "id": "4339cff9",
   "metadata": {},
   "outputs": [],
   "source": [
    "preds = rf_mod.predict_proba(train_X)[:,1]"
   ]
  },
  {
   "cell_type": "code",
   "execution_count": 211,
   "id": "929cf472",
   "metadata": {},
   "outputs": [
    {
     "data": {
      "image/png": "[encoded data removed]",
      "text/plain": [
       "<Figure size 720x360 with 1 Axes>"
      ]
     },
     "metadata": {
      "needs_background": "light"
     },
     "output_type": "display_data"
    }
   ],
   "source": [
    "plt.hist(preds, bins='auto', color=\"#2ecc71\")\n",
    "plt.rcParams[\"figure.figsize\"] = (10,5)\n",
    "plt.title(\"Austin Training Data Predictions Histogram\")\n",
    "plt.show()\n"
   ]
  },
  {
   "cell_type": "code",
   "execution_count": 164,
   "id": "43c9b152",
   "metadata": {
    "scrolled": true
   },
   "outputs": [
    {
     "data": {
      "image/png": "[encoded data removed]",
      "text/plain": [
       "<Figure size 720x360 with 1 Axes>"
      ]
     },
     "metadata": {
      "needs_background": "light"
     },
     "output_type": "display_data"
    }
   ],
   "source": [
    "\n",
    "plt.hist(preds[preds>=.05], bins=150)\n",
    "plt.rcParams[\"figure.figsize\"] = (10, 5)\n",
    "plt.title(\"Austin Training Data Predictions Histogram, Predications >= .05\")\n",
    "plt.xticks(np.arange(.05, 1, .05))\n",
    "plt.show()\n"
   ]
  },
  {
   "cell_type": "code",
   "execution_count": 165,
   "id": "d2981ddc",
   "metadata": {},
   "outputs": [],
   "source": [
    "preds_bin = preds.copy()"
   ]
  },
  {
   "cell_type": "code",
   "execution_count": 166,
   "id": "62b6833f",
   "metadata": {},
   "outputs": [],
   "source": [
    "preds_bin = np.where(preds_bin >= .05, 1, preds_bin)\n",
    "preds_bin = np.where(preds_bin < .05, 0, preds_bin)"
   ]
  },
  {
   "cell_type": "code",
   "execution_count": 229,
   "id": "c3b05ad5",
   "metadata": {},
   "outputs": [
    {
     "name": "stdout",
     "output_type": "stream",
     "text": [
      "              precision    recall  f1-score   support\n",
      "\n",
      "           0       0.99      0.95      0.97     79729\n",
      "           1       0.14      0.42      0.21      1499\n",
      "\n",
      "    accuracy                           0.94     81228\n",
      "   macro avg       0.57      0.69      0.59     81228\n",
      "weighted avg       0.97      0.94      0.96     81228\n",
      "\n"
     ]
    },
    {
     "data": {
      "image/png": "[encoded data removed]",
      "text/plain": [
       "<Figure size 360x360 with 1 Axes>"
      ]
     },
     "metadata": {
      "needs_background": "light"
     },
     "output_type": "display_data"
    }
   ],
   "source": [
    "print(m.classification_report(train_y, preds_bin))\n",
    "\n",
    "m.ConfusionMatrixDisplay.from_predictions(train_y, preds_bin, colorbar=False)\n",
    "plt.rcParams[\"figure.figsize\"] = (5, 5)\n",
    "plt.title('Austin Training Data Confusion Matrix')\n",
    "plt.show()"
   ]
  },
  {
   "cell_type": "markdown",
   "id": "08509327",
   "metadata": {},
   "source": [
    "### Variable Importance - Default"
   ]
  },
  {
   "cell_type": "code",
   "execution_count": 75,
   "id": "1b37996a",
   "metadata": {},
   "outputs": [],
   "source": [
    "## Feature Importance\n",
    "\n",
    "vi = permutation_importance(rf_mod,train_X,train_y,n_repeats=3)\n",
    "\n",
    "# Organize as a data frame \n",
    "vi_dat = pd.DataFrame(dict(variable=train_X.columns,\n",
    "                           vi = vi['importances_mean'],\n",
    "                           std = vi['importances_std']))\n",
    "\n",
    "# Generate intervals\n",
    "vi_dat['low'] = vi_dat['vi'] - 2*vi_dat['std']\n",
    "vi_dat['high'] = vi_dat['vi'] + 2*vi_dat['std']\n",
    "\n",
    "# But in order from most to least important\n",
    "vi_dat = vi_dat.sort_values(by=\"vi\",ascending=False).reset_index(drop=True)\n",
    "\n",
    "\n",
    "vi_dat\n",
    "\n",
    "\n",
    "\n",
    "# store\n",
    "#vi_dat.to_csv(\"vi_dat_20_800.csv\", index=False)\n"
   ]
  },
  {
   "cell_type": "code",
   "execution_count": 209,
   "id": "c1f7e018",
   "metadata": {},
   "outputs": [
    {
     "data": {
      "image/png": "[encoded data removed]",
      "text/plain": [
       "<Figure size 300x500 with 1 Axes>"
      ]
     },
     "metadata": {},
     "output_type": "display_data"
    },
    {
     "data": {
      "text/plain": [
       "<ggplot: (8774204930844)>"
      ]
     },
     "execution_count": 209,
     "metadata": {},
     "output_type": "execute_result"
    }
   ],
   "source": [
    "# Plot the most important variables\n",
    "(\n",
    "    ggplot(vi_dat[0:10],\n",
    "          aes(x=\"variable\",y=\"vi\")) +\n",
    "    geom_col(fill=\"#2ecc71\") +\n",
    "    geom_point() +\n",
    "    geom_errorbar(aes(ymin=\"low\",ymax=\"high\"),width=.2) +\n",
    "    theme_bw() +\n",
    "    scale_x_discrete(limits=vi_dat[0:10].variable.tolist()) +\n",
    "    coord_flip() +\n",
    "    labs(y=\"Austin Training Data Reduction in AUC ROC\",x=\"\") + \n",
    "    theme(figure_size=(3,5))\n",
    "         )"
   ]
  },
  {
   "cell_type": "markdown",
   "id": "9fecf7c1",
   "metadata": {},
   "source": [
    "## Austin Dataset - PCA"
   ]
  },
  {
   "cell_type": "code",
   "execution_count": 61,
   "id": "c6b2430b",
   "metadata": {},
   "outputs": [],
   "source": [
    "# Split the data into a training and test dataset partitioning 75% of the data into the training data, and\n",
    "# holding out 25% of the data as a test set. Set a seed to replicate your split.\n",
    "\n",
    "\n",
    "yp = austin[['euthanasia']]\n",
    "Xp = austin.drop(columns=['euthanasia'])\n",
    "\n",
    "pca = PCA(n_components=20)\n",
    "pca = pca.fit(Xp)\n",
    "Xp = pca.transform(Xp)\n",
    "\n",
    "train_Xp, test_Xp, train_yp, test_yp = train_test_split(Xp,yp,test_size = .25,random_state=1137)"
   ]
  },
  {
   "cell_type": "markdown",
   "id": "4b54949e",
   "metadata": {},
   "source": [
    "## Model Fitting & Evaluation - PCA"
   ]
  },
  {
   "cell_type": "code",
   "execution_count": 62,
   "id": "2e7e63c1",
   "metadata": {},
   "outputs": [],
   "source": [
    "search_pca = GridSearchCV(pipe, search_space, \n",
    "                      cv = fold_generator,\n",
    "                      scoring='roc_auc',\n",
    "                      n_jobs=4)"
   ]
  },
  {
   "cell_type": "code",
   "execution_count": 63,
   "id": "5d8520a9",
   "metadata": {},
   "outputs": [
    {
     "data": {
      "text/plain": [
       "GridSearchCV(cv=KFold(n_splits=10, random_state=None, shuffle=True),\n",
       "             estimator=Pipeline(steps=[('pre_process', MinMaxScaler()),\n",
       "                                       ('model', None)]),\n",
       "             n_jobs=4,\n",
       "             param_grid=[{'model': [RandomForestClassifier(max_depth=10,\n",
       "                                                           n_estimators=1000,\n",
       "                                                           random_state=1137)],\n",
       "                          'model__max_depth': [5, 10, 15, 20],\n",
       "                          'model__n_estimators': [500, 1000],\n",
       "                          'model__random_state': [1137]}],\n",
       "             scoring='roc_auc')"
      ]
     },
     "execution_count": 63,
     "metadata": {},
     "output_type": "execute_result"
    }
   ],
   "source": [
    "search_pca.fit(train_Xp,train_yp.euthanasia)"
   ]
  },
  {
   "cell_type": "code",
   "execution_count": 64,
   "id": "5b09005a",
   "metadata": {},
   "outputs": [
    {
     "data": {
      "text/plain": [
       "0.7980746884749922"
      ]
     },
     "execution_count": 64,
     "metadata": {},
     "output_type": "execute_result"
    }
   ],
   "source": [
    "search_pca.best_score_"
   ]
  },
  {
   "cell_type": "code",
   "execution_count": 65,
   "id": "33e00d26",
   "metadata": {},
   "outputs": [
    {
     "data": {
      "text/plain": [
       "{'model': RandomForestClassifier(max_depth=10, n_estimators=1000, random_state=1137),\n",
       " 'model__max_depth': 10,\n",
       " 'model__n_estimators': 1000,\n",
       " 'model__random_state': 1137}"
      ]
     },
     "execution_count": 65,
     "metadata": {},
     "output_type": "execute_result"
    }
   ],
   "source": [
    "search_pca.best_params_"
   ]
  },
  {
   "cell_type": "code",
   "execution_count": 66,
   "id": "d35546b5",
   "metadata": {},
   "outputs": [],
   "source": [
    "rf_mod_pca = search_pca.best_estimator_"
   ]
  },
  {
   "cell_type": "code",
   "execution_count": 67,
   "id": "9f808fa7",
   "metadata": {},
   "outputs": [
    {
     "data": {
      "text/plain": [
       "0.9249943924872056"
      ]
     },
     "execution_count": 67,
     "metadata": {},
     "output_type": "execute_result"
    }
   ],
   "source": [
    "m.roc_auc_score(train_yp,rf_mod_pca.predict_proba(train_Xp)[:,1])"
   ]
  },
  {
   "cell_type": "code",
   "execution_count": 68,
   "id": "720e4c4d",
   "metadata": {},
   "outputs": [
    {
     "data": {
      "text/plain": [
       "0.9818781700891318"
      ]
     },
     "execution_count": 68,
     "metadata": {},
     "output_type": "execute_result"
    }
   ],
   "source": [
    "m.accuracy_score(train_yp,rf_mod_pca.predict(train_Xp))"
   ]
  },
  {
   "cell_type": "markdown",
   "id": "461c9fe7",
   "metadata": {},
   "source": [
    "### Compare Model Mean Test Scores - PCA"
   ]
  },
  {
   "cell_type": "code",
   "execution_count": 69,
   "id": "b1af123b",
   "metadata": {},
   "outputs": [
    {
     "data": {
      "text/html": [
       "<div>\n",
       "<style scoped>\n",
       "    .dataframe tbody tr th:only-of-type {\n",
       "        vertical-align: middle;\n",
       "    }\n",
       "\n",
       "    .dataframe tbody tr th {\n",
       "        vertical-align: top;\n",
       "    }\n",
       "\n",
       "    .dataframe thead th {\n",
       "        text-align: right;\n",
       "    }\n",
       "</style>\n",
       "<table border=\"1\" class=\"dataframe\">\n",
       "  <thead>\n",
       "    <tr style=\"text-align: right;\">\n",
       "      <th></th>\n",
       "      <th>model</th>\n",
       "      <th>mean_test_score</th>\n",
       "      <th>mean_st_err</th>\n",
       "      <th>low</th>\n",
       "      <th>high</th>\n",
       "      <th>max</th>\n",
       "    </tr>\n",
       "  </thead>\n",
       "  <tbody>\n",
       "    <tr>\n",
       "      <th>0</th>\n",
       "      <td>RandomForest, maxdepth:5, trees:500</td>\n",
       "      <td>0.777021</td>\n",
       "      <td>0.021510</td>\n",
       "      <td>0.734002</td>\n",
       "      <td>0.820041</td>\n",
       "      <td>False</td>\n",
       "    </tr>\n",
       "    <tr>\n",
       "      <th>1</th>\n",
       "      <td>RandomForest, maxdepth:5, trees:1000</td>\n",
       "      <td>0.777660</td>\n",
       "      <td>0.020955</td>\n",
       "      <td>0.735750</td>\n",
       "      <td>0.819569</td>\n",
       "      <td>False</td>\n",
       "    </tr>\n",
       "    <tr>\n",
       "      <th>2</th>\n",
       "      <td>RandomForest, maxdepth:10, trees:500</td>\n",
       "      <td>0.797464</td>\n",
       "      <td>0.019273</td>\n",
       "      <td>0.758918</td>\n",
       "      <td>0.836010</td>\n",
       "      <td>False</td>\n",
       "    </tr>\n",
       "    <tr>\n",
       "      <th>3</th>\n",
       "      <td>RandomForest, maxdepth:10, trees:1000</td>\n",
       "      <td>0.798075</td>\n",
       "      <td>0.019084</td>\n",
       "      <td>0.759906</td>\n",
       "      <td>0.836243</td>\n",
       "      <td>True</td>\n",
       "    </tr>\n",
       "    <tr>\n",
       "      <th>4</th>\n",
       "      <td>RandomForest, maxdepth:15, trees:500</td>\n",
       "      <td>0.797286</td>\n",
       "      <td>0.018629</td>\n",
       "      <td>0.760028</td>\n",
       "      <td>0.834545</td>\n",
       "      <td>False</td>\n",
       "    </tr>\n",
       "    <tr>\n",
       "      <th>5</th>\n",
       "      <td>RandomForest, maxdepth:15, trees:1000</td>\n",
       "      <td>0.797946</td>\n",
       "      <td>0.018334</td>\n",
       "      <td>0.761278</td>\n",
       "      <td>0.834613</td>\n",
       "      <td>False</td>\n",
       "    </tr>\n",
       "    <tr>\n",
       "      <th>6</th>\n",
       "      <td>RandomForest, maxdepth:20, trees:500</td>\n",
       "      <td>0.787404</td>\n",
       "      <td>0.016550</td>\n",
       "      <td>0.754304</td>\n",
       "      <td>0.820504</td>\n",
       "      <td>False</td>\n",
       "    </tr>\n",
       "    <tr>\n",
       "      <th>7</th>\n",
       "      <td>RandomForest, maxdepth:20, trees:1000</td>\n",
       "      <td>0.788658</td>\n",
       "      <td>0.017040</td>\n",
       "      <td>0.754577</td>\n",
       "      <td>0.822738</td>\n",
       "      <td>False</td>\n",
       "    </tr>\n",
       "  </tbody>\n",
       "</table>\n",
       "</div>"
      ],
      "text/plain": [
       "                                   model  mean_test_score  mean_st_err  \\\n",
       "0    RandomForest, maxdepth:5, trees:500         0.777021     0.021510   \n",
       "1   RandomForest, maxdepth:5, trees:1000         0.777660     0.020955   \n",
       "2   RandomForest, maxdepth:10, trees:500         0.797464     0.019273   \n",
       "3  RandomForest, maxdepth:10, trees:1000         0.798075     0.019084   \n",
       "4   RandomForest, maxdepth:15, trees:500         0.797286     0.018629   \n",
       "5  RandomForest, maxdepth:15, trees:1000         0.797946     0.018334   \n",
       "6   RandomForest, maxdepth:20, trees:500         0.787404     0.016550   \n",
       "7  RandomForest, maxdepth:20, trees:1000         0.788658     0.017040   \n",
       "\n",
       "        low      high    max  \n",
       "0  0.734002  0.820041  False  \n",
       "1  0.735750  0.819569  False  \n",
       "2  0.758918  0.836010  False  \n",
       "3  0.759906  0.836243   True  \n",
       "4  0.760028  0.834545  False  \n",
       "5  0.761278  0.834613  False  \n",
       "6  0.754304  0.820504  False  \n",
       "7  0.754577  0.822738  False  "
      ]
     },
     "execution_count": 69,
     "metadata": {},
     "output_type": "execute_result"
    }
   ],
   "source": [
    "# Mean Test Score Comparison Table Creation\n",
    "\n",
    "scores_pca = search_pca.cv_results_.get('mean_test_score')\n",
    "errors_pca = search_pca.cv_results_.get('std_test_score')\n",
    "\n",
    "search_pca.cv_results_.get('params')\n",
    "models_pca = [\n",
    "    'RandomForest, maxdepth:5, trees:500',\n",
    "    'RandomForest, maxdepth:5, trees:1000',\n",
    "    'RandomForest, maxdepth:10, trees:500',\n",
    "    'RandomForest, maxdepth:10, trees:1000',\n",
    "    'RandomForest, maxdepth:15, trees:500',\n",
    "    'RandomForest, maxdepth:15, trees:1000',\n",
    "    'RandomForest, maxdepth:20, trees:500',\n",
    "    'RandomForest, maxdepth:20, trees:1000',\n",
    "]\n",
    "\n",
    "dp = {'model':models_pca, 'mean_test_score':scores_pca, 'mean_st_err':errors_pca}\n",
    "table_pca = pd.DataFrame(data=dp)\n",
    "\n",
    "table_pca['low'] = table_pca['mean_test_score'] - 2*table_pca['mean_st_err']\n",
    "table_pca['high'] = table_pca['mean_test_score'] + 2*table_pca['mean_st_err']\n",
    "table_pca['max'] = (table_pca['mean_test_score'] == table_pca['mean_test_score'].max())\n",
    "\n",
    "#table_pca.to_csv('model_test_score_table_PCA.csv', index=False)\n",
    "table_pca"
   ]
  },
  {
   "cell_type": "code",
   "execution_count": 192,
   "id": "79698d3d",
   "metadata": {},
   "outputs": [
    {
     "data": {
      "image/png": "[encoded data removed]",
      "text/plain": [
       "<Figure size 640x480 with 1 Axes>"
      ]
     },
     "metadata": {
      "needs_background": "light"
     },
     "output_type": "display_data"
    },
    {
     "data": {
      "text/plain": [
       "<ggplot: (8774293723507)>"
      ]
     },
     "execution_count": 192,
     "metadata": {},
     "output_type": "execute_result"
    }
   ],
   "source": [
    "(\n",
    "ggplot(table_pca, aes(x='model', y='mean_test_score',\n",
    "                  fill='max')) + \n",
    "    geom_col() + \n",
    "    geom_errorbar(aes(ymin=\"low\",ymax=\"high\"),width=.4) + \n",
    "    scale_fill_manual(values=('darkgray','gold'), guide=None) + \n",
    "    coord_flip() + \n",
    "    labs(x='', y='Mean Test Score', title=\"Austin Training Data Models, PCA\") + \n",
    "    theme_minimal()\n",
    ")"
   ]
  },
  {
   "cell_type": "markdown",
   "id": "e56ce81a",
   "metadata": {},
   "source": [
    "### Plot & Evaluated Predicted Probabilities - PCA"
   ]
  },
  {
   "cell_type": "code",
   "execution_count": 71,
   "id": "34db6c4d",
   "metadata": {},
   "outputs": [],
   "source": [
    "preds_pca = rf_mod_pca.predict_proba(train_Xp)[:,1]\n",
    "preds_pca_bin = preds_pca.copy()"
   ]
  },
  {
   "cell_type": "code",
   "execution_count": 72,
   "id": "f137387f",
   "metadata": {},
   "outputs": [],
   "source": [
    "preds_pca_bin = np.where(preds_pca_bin >= .05, 1, preds_pca_bin)\n",
    "preds_pca_bin = np.where(preds_pca_bin < .05, 0, preds_pca_bin)"
   ]
  },
  {
   "cell_type": "code",
   "execution_count": 73,
   "id": "f27e86e7",
   "metadata": {},
   "outputs": [
    {
     "name": "stdout",
     "output_type": "stream",
     "text": [
      "              precision    recall  f1-score   support\n",
      "\n",
      "           0       0.99      0.95      0.97     79729\n",
      "           1       0.21      0.63      0.31      1499\n",
      "\n",
      "    accuracy                           0.95     81228\n",
      "   macro avg       0.60      0.79      0.64     81228\n",
      "weighted avg       0.98      0.95      0.96     81228\n",
      "\n"
     ]
    }
   ],
   "source": [
    "print(m.classification_report(train_yp, preds_pca_bin))"
   ]
  },
  {
   "cell_type": "code",
   "execution_count": 197,
   "id": "e2f2cbd3",
   "metadata": {},
   "outputs": [
    {
     "data": {
      "image/png": "[encoded data removed]",
      "text/plain": [
       "<Figure size 360x360 with 1 Axes>"
      ]
     },
     "metadata": {
      "needs_background": "light"
     },
     "output_type": "display_data"
    }
   ],
   "source": [
    "m.ConfusionMatrixDisplay.from_predictions(train_yp, preds_pca_bin, colorbar=False)\n",
    "plt.rcParams[\"figure.figsize\"] = (5, 5)\n",
    "plt.title('Austin Training Data PCA Confusion Matrix')\n",
    "plt.show()"
   ]
  },
  {
   "cell_type": "markdown",
   "id": "3675c41d",
   "metadata": {},
   "source": [
    "## Austin Dataset - Reduced"
   ]
  },
  {
   "cell_type": "code",
   "execution_count": 91,
   "id": "6e440da6",
   "metadata": {},
   "outputs": [],
   "source": [
    "# Split the data into a training and test dataset partitioning 75% of the data into the training data, and\n",
    "# holding out 25% of the data as a test set. Set a seed to replicate your split.\n",
    "\n",
    "\n",
    "yr = austin[['euthanasia']]\n",
    "Xr = austin.drop(columns=['euthanasia'])\n",
    "\n",
    "Xr.drop([\n",
    "'schnauzer giant', 'samoyed', 'schipperke', 'scottish terrier', 'scottish deerhound',\n",
    "'russell terrier', 'pembroke welsh corgi', 'pharaoh hound', 'shetland sheepdog', 'shiba inu',\n",
    "'saluki', 'pomeranian', 'polish lowland', 'picardy sheepdog', 'shih tzu', 'parson russell terrier',\n",
    "'queensland heeler', 'puli', 'pekingese', 'presa canario', 'portuguese water dog', 'pekapoo',\n",
    "'patterdale terrier', 'podengo pequeno', 'toy poodle', 'petit basset griffon vendeen', 'weimaraner',\n",
    "'siberian husky', 'wirehaired vizsla', 'vizsla', 'otterhound', 'welsh springer spaniel', 'west highland',\n",
    "'whippet', 'wire hair fox terrier', 'wirehaired pointing griffon', 'misc', 'silky terrier',\n",
    "'afghan hound', 'intake_condition_pregnant/nursing', 'intake_condition_unhealthy', 'intake_type_confiscated',\n",
    "'intake_type_medical', 'intake_type_other', 'intake_type_return', 'treeing cur',\n",
    "'tree walker hound', 'toy fox terrier', 'tibetan terrier', 'smooth fox terrier',\n",
    "'soft coated wheaten terrier', 'spanish mastiff', 'spanish water dog', 'spinone italiano',\n",
    "'st bernard rough coat', 'st bernard smooth coat', 'staffordshire', 'standard schnauzer', 'sussex spaniel',\n",
    "'swedish vallhund', 'swiss hound', 'tennesee treeing brindle hound', 'tibetan mastiff','tibetan spaniel',\n",
    "'papillon', 'airedale terrier', 'old english sheepdog', 'chinese crested', 'boykin spaniel',\n",
    "'briard', 'brittany', 'brussels griffon', 'bull terrier miniature', 'canaan dog', 'cane corso',\n",
    "'cardigan welsh corgi', 'carolina dog', 'cavalier king charles spaniel', 'chesapeake bay retriever', 'clumber spaniel',\n",
    "'boston terrier', 'collie rough', 'collie smooth', 'coton de tulear', 'dalmatian',\n",
    "'dandie dinmont', 'doberman pinscher', 'dogo argentino', 'dutch shepherd', 'english coonhound',\n",
    "'english foxhound', 'english pointer', 'bouvier des flandres', 'borzoi', 'old english bulldog',\n",
    "'beauceron', 'akita', 'alaskan husky', 'alaskan klee kai','alaskan malamute', 'australian kelpie',\n",
    "'american bulldog', 'american staffordshire terrier', 'anatolian shepherd', 'australian terrier',\n",
    "'basenji', 'bearded collie', 'bedlington terrier', 'boerboel', 'belgian laekenois', 'belgian malinois',\n",
    "'belgian sheepdog', 'belgian tervuren', 'bernese hound', 'bernese mountain dog', 'bichon frise',\n",
    "'black/tan hound', 'bloodhound', 'blue lacy', 'bluetick coonhound', 'english setter',\n",
    "'english shepherd', 'english springer spaniel', 'akbash', 'karelian bear dog', 'keeshond',\n",
    "'kerry blue terrier', 'korean jindo', 'kuvasz', 'lakeland terrier', 'landseer', 'leonberger',\n",
    "'lhasa apso', 'lowchen', 'affenpinscher', 'mexican hairless', 'english toy spaniel', 'minature pinscher',\n",
    "'minature poodle', 'minature schnauzer', 'munsterlander', 'neapolitan mastiff', 'newfoundland',\n",
    "'norfolk terrier', 'norwegian buhund', 'norwegian elkhound', 'norwich terrier', 'nova scotia duck tolling retriever',\n",
    "'kangal', 'jindo', 'japanese chin', 'italian greyhound', 'entlebucher', 'feist', 'field spaniel',\n",
    "'fila brasileiro', 'finnish spitz', 'flat coat retriever', 'fox terrier', 'french bulldog',\n",
    "'german pinscher', 'german shorthair pointer', 'german wirehair pointer', 'glen of imaal', 'gordon setter',\n",
    "'great swiss mountain', 'greyhound', 'harrier', 'havanese', 'hovawart', 'ibizan hound',\n",
    "'irish setter', 'irish terrier', 'irish wolfhound', 'manchester terrier', 'standard poodle'],\n",
    "    inplace=True, axis=1)\n",
    "\n",
    "train_Xr, test_Xr, train_yr, test_yr = train_test_split(Xr,yr,test_size = .25,random_state=1137)"
   ]
  },
  {
   "cell_type": "markdown",
   "id": "15727a6a",
   "metadata": {},
   "source": [
    "## Model Fitting & Evaluation - Reduced"
   ]
  },
  {
   "cell_type": "code",
   "execution_count": 92,
   "id": "e033c801",
   "metadata": {},
   "outputs": [],
   "source": [
    "search_r = GridSearchCV(pipe, search_space, \n",
    "                      cv = fold_generator,\n",
    "                      scoring='roc_auc',\n",
    "                      n_jobs=4)"
   ]
  },
  {
   "cell_type": "code",
   "execution_count": 93,
   "id": "fe4c8bb0",
   "metadata": {},
   "outputs": [
    {
     "data": {
      "text/plain": [
       "GridSearchCV(cv=KFold(n_splits=10, random_state=None, shuffle=True),\n",
       "             estimator=Pipeline(steps=[('pre_process', MinMaxScaler()),\n",
       "                                       ('model', None)]),\n",
       "             n_jobs=4,\n",
       "             param_grid=[{'model': [RandomForestClassifier(max_depth=15,\n",
       "                                                           n_estimators=1000,\n",
       "                                                           random_state=1137)],\n",
       "                          'model__max_depth': [5, 10, 15, 20],\n",
       "                          'model__n_estimators': [500, 1000],\n",
       "                          'model__random_state': [1137]}],\n",
       "             scoring='roc_auc')"
      ]
     },
     "execution_count": 93,
     "metadata": {},
     "output_type": "execute_result"
    }
   ],
   "source": [
    "search_r.fit(train_Xr,train_yr.euthanasia)"
   ]
  },
  {
   "cell_type": "code",
   "execution_count": 94,
   "id": "c980c508",
   "metadata": {},
   "outputs": [
    {
     "data": {
      "text/plain": [
       "0.8059816572257482"
      ]
     },
     "execution_count": 94,
     "metadata": {},
     "output_type": "execute_result"
    }
   ],
   "source": [
    "search_r.best_score_"
   ]
  },
  {
   "cell_type": "code",
   "execution_count": 95,
   "id": "ef493717",
   "metadata": {},
   "outputs": [
    {
     "data": {
      "text/plain": [
       "{'model': RandomForestClassifier(max_depth=15, n_estimators=1000, random_state=1137),\n",
       " 'model__max_depth': 15,\n",
       " 'model__n_estimators': 1000,\n",
       " 'model__random_state': 1137}"
      ]
     },
     "execution_count": 95,
     "metadata": {},
     "output_type": "execute_result"
    }
   ],
   "source": [
    "search_r.best_params_"
   ]
  },
  {
   "cell_type": "code",
   "execution_count": 96,
   "id": "8fa5b08c",
   "metadata": {},
   "outputs": [],
   "source": [
    "rf_mod_r = search_r.best_estimator_"
   ]
  },
  {
   "cell_type": "code",
   "execution_count": 97,
   "id": "c7b76fe8",
   "metadata": {},
   "outputs": [
    {
     "data": {
      "text/plain": [
       "0.9110593623558241"
      ]
     },
     "execution_count": 97,
     "metadata": {},
     "output_type": "execute_result"
    }
   ],
   "source": [
    "m.roc_auc_score(train_yr,rf_mod_r.predict_proba(train_Xr)[:,1])"
   ]
  },
  {
   "cell_type": "code",
   "execution_count": 98,
   "id": "d18cd542",
   "metadata": {},
   "outputs": [
    {
     "data": {
      "text/plain": [
       "0.9822598118875264"
      ]
     },
     "execution_count": 98,
     "metadata": {},
     "output_type": "execute_result"
    }
   ],
   "source": [
    "m.accuracy_score(train_yr,rf_mod_r.predict(train_Xr))"
   ]
  },
  {
   "cell_type": "markdown",
   "id": "1ca3da4b",
   "metadata": {},
   "source": [
    "### Compare Model Mean Test Scores - Reduced"
   ]
  },
  {
   "cell_type": "code",
   "execution_count": 99,
   "id": "8cbdc3db",
   "metadata": {},
   "outputs": [
    {
     "data": {
      "text/html": [
       "<div>\n",
       "<style scoped>\n",
       "    .dataframe tbody tr th:only-of-type {\n",
       "        vertical-align: middle;\n",
       "    }\n",
       "\n",
       "    .dataframe tbody tr th {\n",
       "        vertical-align: top;\n",
       "    }\n",
       "\n",
       "    .dataframe thead th {\n",
       "        text-align: right;\n",
       "    }\n",
       "</style>\n",
       "<table border=\"1\" class=\"dataframe\">\n",
       "  <thead>\n",
       "    <tr style=\"text-align: right;\">\n",
       "      <th></th>\n",
       "      <th>model</th>\n",
       "      <th>mean_test_score</th>\n",
       "      <th>mean_st_err</th>\n",
       "      <th>low</th>\n",
       "      <th>high</th>\n",
       "      <th>max</th>\n",
       "    </tr>\n",
       "  </thead>\n",
       "  <tbody>\n",
       "    <tr>\n",
       "      <th>0</th>\n",
       "      <td>RandomForest, maxdepth:5, trees:500</td>\n",
       "      <td>0.781793</td>\n",
       "      <td>0.012666</td>\n",
       "      <td>0.756461</td>\n",
       "      <td>0.807125</td>\n",
       "      <td>False</td>\n",
       "    </tr>\n",
       "    <tr>\n",
       "      <th>1</th>\n",
       "      <td>RandomForest, maxdepth:5, trees:1000</td>\n",
       "      <td>0.781640</td>\n",
       "      <td>0.013037</td>\n",
       "      <td>0.755566</td>\n",
       "      <td>0.807714</td>\n",
       "      <td>False</td>\n",
       "    </tr>\n",
       "    <tr>\n",
       "      <th>2</th>\n",
       "      <td>RandomForest, maxdepth:10, trees:500</td>\n",
       "      <td>0.797646</td>\n",
       "      <td>0.013465</td>\n",
       "      <td>0.770715</td>\n",
       "      <td>0.824576</td>\n",
       "      <td>False</td>\n",
       "    </tr>\n",
       "    <tr>\n",
       "      <th>3</th>\n",
       "      <td>RandomForest, maxdepth:10, trees:1000</td>\n",
       "      <td>0.798095</td>\n",
       "      <td>0.013296</td>\n",
       "      <td>0.771504</td>\n",
       "      <td>0.824687</td>\n",
       "      <td>False</td>\n",
       "    </tr>\n",
       "    <tr>\n",
       "      <th>4</th>\n",
       "      <td>RandomForest, maxdepth:15, trees:500</td>\n",
       "      <td>0.805886</td>\n",
       "      <td>0.016444</td>\n",
       "      <td>0.772997</td>\n",
       "      <td>0.838774</td>\n",
       "      <td>False</td>\n",
       "    </tr>\n",
       "    <tr>\n",
       "      <th>5</th>\n",
       "      <td>RandomForest, maxdepth:15, trees:1000</td>\n",
       "      <td>0.805982</td>\n",
       "      <td>0.015711</td>\n",
       "      <td>0.774559</td>\n",
       "      <td>0.837404</td>\n",
       "      <td>True</td>\n",
       "    </tr>\n",
       "    <tr>\n",
       "      <th>6</th>\n",
       "      <td>RandomForest, maxdepth:20, trees:500</td>\n",
       "      <td>0.803925</td>\n",
       "      <td>0.017063</td>\n",
       "      <td>0.769798</td>\n",
       "      <td>0.838052</td>\n",
       "      <td>False</td>\n",
       "    </tr>\n",
       "    <tr>\n",
       "      <th>7</th>\n",
       "      <td>RandomForest, maxdepth:20, trees:1000</td>\n",
       "      <td>0.804893</td>\n",
       "      <td>0.016811</td>\n",
       "      <td>0.771270</td>\n",
       "      <td>0.838515</td>\n",
       "      <td>False</td>\n",
       "    </tr>\n",
       "  </tbody>\n",
       "</table>\n",
       "</div>"
      ],
      "text/plain": [
       "                                   model  mean_test_score  mean_st_err  \\\n",
       "0    RandomForest, maxdepth:5, trees:500         0.781793     0.012666   \n",
       "1   RandomForest, maxdepth:5, trees:1000         0.781640     0.013037   \n",
       "2   RandomForest, maxdepth:10, trees:500         0.797646     0.013465   \n",
       "3  RandomForest, maxdepth:10, trees:1000         0.798095     0.013296   \n",
       "4   RandomForest, maxdepth:15, trees:500         0.805886     0.016444   \n",
       "5  RandomForest, maxdepth:15, trees:1000         0.805982     0.015711   \n",
       "6   RandomForest, maxdepth:20, trees:500         0.803925     0.017063   \n",
       "7  RandomForest, maxdepth:20, trees:1000         0.804893     0.016811   \n",
       "\n",
       "        low      high    max  \n",
       "0  0.756461  0.807125  False  \n",
       "1  0.755566  0.807714  False  \n",
       "2  0.770715  0.824576  False  \n",
       "3  0.771504  0.824687  False  \n",
       "4  0.772997  0.838774  False  \n",
       "5  0.774559  0.837404   True  \n",
       "6  0.769798  0.838052  False  \n",
       "7  0.771270  0.838515  False  "
      ]
     },
     "execution_count": 99,
     "metadata": {},
     "output_type": "execute_result"
    }
   ],
   "source": [
    "# Mean Test Score Comparison Table Creation\n",
    "\n",
    "scores_r = search_r.cv_results_.get('mean_test_score')\n",
    "errors_r = search_r.cv_results_.get('std_test_score')\n",
    "\n",
    "search_r.cv_results_.get('params')\n",
    "models_r = [\n",
    "    'RandomForest, maxdepth:5, trees:500',\n",
    "    'RandomForest, maxdepth:5, trees:1000',\n",
    "    'RandomForest, maxdepth:10, trees:500',\n",
    "    'RandomForest, maxdepth:10, trees:1000',\n",
    "        'RandomForest, maxdepth:15, trees:500',\n",
    "    'RandomForest, maxdepth:15, trees:1000',\n",
    "        'RandomForest, maxdepth:20, trees:500',\n",
    "    'RandomForest, maxdepth:20, trees:1000',\n",
    "\n",
    "]\n",
    "\n",
    "dr = {'model':models_r, 'mean_test_score':scores_r, 'mean_st_err':errors_r}\n",
    "table_r = pd.DataFrame(data=dr)\n",
    "\n",
    "table_r['low'] = table_r['mean_test_score'] - 2*table_r['mean_st_err']\n",
    "table_r['high'] = table_r['mean_test_score'] + 2*table_r['mean_st_err']\n",
    "table_r['max'] = (table_r['mean_test_score'] == table_r['mean_test_score'].max())\n",
    "\n",
    "#table_r.to_csv('model_test_score_table_r.csv', index=False)\n",
    "table_r"
   ]
  },
  {
   "cell_type": "code",
   "execution_count": 198,
   "id": "375c48a2",
   "metadata": {},
   "outputs": [
    {
     "data": {
      "image/png": "[encoded data removed]",
      "text/plain": [
       "<Figure size 640x480 with 1 Axes>"
      ]
     },
     "metadata": {
      "needs_background": "light"
     },
     "output_type": "display_data"
    },
    {
     "data": {
      "text/plain": [
       "<ggplot: (8774294190132)>"
      ]
     },
     "execution_count": 198,
     "metadata": {},
     "output_type": "execute_result"
    }
   ],
   "source": [
    "(\n",
    "ggplot(table, aes(x='model', y='mean_test_score',\n",
    "                  fill='max')) + \n",
    "    geom_col() + \n",
    "    geom_errorbar(aes(ymin=\"low\",ymax=\"high\"),width=.4) + \n",
    "    scale_fill_manual(values=('darkgray','gold'), guide=None) + \n",
    "    coord_flip() + \n",
    "    labs(x='', y='Mean Test Score', title='Austin Training Data, Reduced Variables') + \n",
    "    theme_minimal()\n",
    ")"
   ]
  },
  {
   "cell_type": "markdown",
   "id": "83e9fe88",
   "metadata": {},
   "source": [
    "### Plot & Evaluated Predicted Probabilities - Reduced"
   ]
  },
  {
   "cell_type": "code",
   "execution_count": 101,
   "id": "1267fa05",
   "metadata": {},
   "outputs": [],
   "source": [
    "preds_r = rf_mod_r.predict_proba(train_Xr)[:,1]"
   ]
  },
  {
   "cell_type": "code",
   "execution_count": 102,
   "id": "9c04f566",
   "metadata": {},
   "outputs": [],
   "source": [
    "preds_bin_r = preds_r.copy()\n",
    "\n",
    "preds_bin_r = np.where(preds_bin_r >= .05, 1, preds_bin_r)\n",
    "preds_bin_r = np.where(preds_bin_r < .05, 0, preds_bin_r)"
   ]
  },
  {
   "cell_type": "code",
   "execution_count": 199,
   "id": "810eca0a",
   "metadata": {},
   "outputs": [
    {
     "name": "stdout",
     "output_type": "stream",
     "text": [
      "              precision    recall  f1-score   support\n",
      "\n",
      "           0       0.99      0.96      0.97     79729\n",
      "           1       0.21      0.63      0.31      1499\n",
      "\n",
      "    accuracy                           0.95     81228\n",
      "   macro avg       0.60      0.79      0.64     81228\n",
      "weighted avg       0.98      0.95      0.96     81228\n",
      "\n"
     ]
    },
    {
     "data": {
      "image/png": "[encoded data removed]",
      "text/plain": [
       "<Figure size 360x360 with 1 Axes>"
      ]
     },
     "metadata": {
      "needs_background": "light"
     },
     "output_type": "display_data"
    }
   ],
   "source": [
    "print(m.classification_report(train_yr, preds_bin_r))\n",
    "\n",
    "m.ConfusionMatrixDisplay.from_predictions(train_yr, preds_bin_r, colorbar=False)\n",
    "plt.rcParams[\"figure.figsize\"] = (5, 5)\n",
    "plt.title('Austin Reduced Training Data Confusion Matrix')\n",
    "plt.show()"
   ]
  },
  {
   "cell_type": "markdown",
   "id": "86e65366",
   "metadata": {},
   "source": [
    "## Predicting Austin Test Data"
   ]
  },
  {
   "cell_type": "code",
   "execution_count": 186,
   "id": "f1a160bf",
   "metadata": {},
   "outputs": [
    {
     "data": {
      "text/plain": [
       "0.7961639639798608"
      ]
     },
     "execution_count": 186,
     "metadata": {},
     "output_type": "execute_result"
    }
   ],
   "source": [
    "# fit the default Austin model on the new data\n",
    "\n",
    "m.roc_auc_score(test_y,rf_mod.predict_proba(test_X)[:,1])"
   ]
  },
  {
   "cell_type": "code",
   "execution_count": 187,
   "id": "ec2bb561",
   "metadata": {},
   "outputs": [
    {
     "data": {
      "text/plain": [
       "0.9810909628097647"
      ]
     },
     "execution_count": 187,
     "metadata": {},
     "output_type": "execute_result"
    }
   ],
   "source": [
    "m.accuracy_score(test_y,rf_mod.predict(test_X))"
   ]
  },
  {
   "cell_type": "code",
   "execution_count": 188,
   "id": "8c6f8fd3",
   "metadata": {},
   "outputs": [],
   "source": [
    "preds_t = rf_mod.predict_proba(test_X)[:,1]"
   ]
  },
  {
   "cell_type": "code",
   "execution_count": 189,
   "id": "f8a0f94b",
   "metadata": {},
   "outputs": [],
   "source": [
    "preds_bin_t = preds_t.copy()\n",
    "\n",
    "preds_bin_t = np.where(preds_bin_t >= .05, 1, preds_bin_t)\n",
    "preds_bin_t = np.where(preds_bin_t < .05, 0, preds_bin_t)"
   ]
  },
  {
   "cell_type": "code",
   "execution_count": 200,
   "id": "ef2f7f8a",
   "metadata": {},
   "outputs": [
    {
     "name": "stdout",
     "output_type": "stream",
     "text": [
      "              precision    recall  f1-score   support\n",
      "\n",
      "           0       0.99      0.95      0.97     26565\n",
      "           1       0.11      0.32      0.16       512\n",
      "\n",
      "    accuracy                           0.94     27077\n",
      "   macro avg       0.55      0.64      0.56     27077\n",
      "weighted avg       0.97      0.94      0.95     27077\n",
      "\n"
     ]
    },
    {
     "data": {
      "image/png": "[encoded data removed]",
      "text/plain": [
       "<Figure size 360x360 with 1 Axes>"
      ]
     },
     "metadata": {
      "needs_background": "light"
     },
     "output_type": "display_data"
    }
   ],
   "source": [
    "print(m.classification_report(test_y, preds_bin_t))\n",
    "\n",
    "m.ConfusionMatrixDisplay.from_predictions(test_y, preds_bin_t, colorbar=False)\n",
    "plt.rcParams[\"figure.figsize\"] = (5, 5)\n",
    "plt.title('Austin Test Data Confusion Matrix')\n",
    "plt.show()"
   ]
  },
  {
   "cell_type": "markdown",
   "id": "38e2bf71",
   "metadata": {},
   "source": [
    "## Austin Test Data - PCA"
   ]
  },
  {
   "cell_type": "code",
   "execution_count": 175,
   "id": "ed51fd77",
   "metadata": {},
   "outputs": [
    {
     "data": {
      "text/plain": [
       "0.8023144145256916"
      ]
     },
     "execution_count": 175,
     "metadata": {},
     "output_type": "execute_result"
    }
   ],
   "source": [
    "# fit the default Austin model on the new data\n",
    "\n",
    "m.roc_auc_score(test_yp,rf_mod_pca.predict_proba(test_Xp)[:,1])"
   ]
  },
  {
   "cell_type": "code",
   "execution_count": 176,
   "id": "30af153f",
   "metadata": {},
   "outputs": [
    {
     "data": {
      "text/plain": [
       "0.9810170993832404"
      ]
     },
     "execution_count": 176,
     "metadata": {},
     "output_type": "execute_result"
    }
   ],
   "source": [
    "m.accuracy_score(test_yp,rf_mod_pca.predict(test_Xp))"
   ]
  },
  {
   "cell_type": "code",
   "execution_count": 177,
   "id": "06fdd54a",
   "metadata": {},
   "outputs": [],
   "source": [
    "preds_tp = rf_mod_pca.predict_proba(test_Xp)[:,1]"
   ]
  },
  {
   "cell_type": "code",
   "execution_count": 178,
   "id": "f9ef9a67",
   "metadata": {},
   "outputs": [],
   "source": [
    "preds_bin_tp = preds_tp.copy()\n",
    "\n",
    "preds_bin_tp = np.where(preds_bin_tp >= .05, 1, preds_bin_tp)\n",
    "preds_bin_tp = np.where(preds_bin_tp < .05, 0, preds_bin_tp)"
   ]
  },
  {
   "cell_type": "code",
   "execution_count": 201,
   "id": "7b1e8b14",
   "metadata": {},
   "outputs": [
    {
     "name": "stdout",
     "output_type": "stream",
     "text": [
      "              precision    recall  f1-score   support\n",
      "\n",
      "           0       0.99      0.94      0.96     26565\n",
      "           1       0.11      0.39      0.17       512\n",
      "\n",
      "    accuracy                           0.93     27077\n",
      "   macro avg       0.55      0.66      0.57     27077\n",
      "weighted avg       0.97      0.93      0.95     27077\n",
      "\n"
     ]
    },
    {
     "data": {
      "image/png": "[encoded data removed]",
      "text/plain": [
       "<Figure size 360x360 with 1 Axes>"
      ]
     },
     "metadata": {
      "needs_background": "light"
     },
     "output_type": "display_data"
    }
   ],
   "source": [
    "print(m.classification_report(test_yp, preds_bin_tp))\n",
    "\n",
    "m.ConfusionMatrixDisplay.from_predictions(test_yp, preds_bin_tp, colorbar=False)\n",
    "plt.rcParams[\"figure.figsize\"] = (5, 5)\n",
    "plt.title('Austin Test Data PCA Confusion Matrix')\n",
    "plt.show()"
   ]
  }
 ],
 "metadata": {
  "kernelspec": {
   "display_name": "Python 3",
   "language": "python",
   "name": "python3"
  },
  "language_info": {
   "codemirror_mode": {
    "name": "ipython",
    "version": 3
   },
   "file_extension": ".py",
   "mimetype": "text/x-python",
   "name": "python",
   "nbconvert_exporter": "python",
   "pygments_lexer": "ipython3",
   "version": "3.8.8"
  },
  "varInspector": {
   "cols": {
    "lenName": 16,
    "lenType": 16,
    "lenVar": 40
   },
   "kernels_config": {
    "python": {
     "delete_cmd_postfix": "",
     "delete_cmd_prefix": "del ",
     "library": "var_list.py",
     "varRefreshCmd": "print(var_dic_list())"
    },
    "r": {
     "delete_cmd_postfix": ") ",
     "delete_cmd_prefix": "rm(",
     "library": "var_list.r",
     "varRefreshCmd": "cat(var_dic_list()) "
    }
   },
   "types_to_exclude": [
    "module",
    "function",
    "builtin_function_or_method",
    "instance",
    "_Feature"
   ],
   "window_display": false
  }
 },
 "nbformat": 4,
 "nbformat_minor": 5
}
