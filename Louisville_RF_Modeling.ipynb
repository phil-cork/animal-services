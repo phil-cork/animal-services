{
 "cells": [
  {
   "cell_type": "code",
   "execution_count": 1,
   "id": "774f9664",
   "metadata": {},
   "outputs": [],
   "source": [
    "import pandas as pd\n",
    "import random\n",
    "import numpy as np\n",
    "\n",
    "# Plotting libraries\n",
    "from plotnine import *\n",
    "import matplotlib.pyplot as plt\n",
    "\n",
    "# For pre-processing data \n",
    "from sklearn import preprocessing as pp \n",
    "from sklearn.compose import ColumnTransformer \n",
    "\n",
    "# For splits and CV\n",
    "from sklearn.model_selection import train_test_split\n",
    "from sklearn.model_selection import KFold # Cross validation \n",
    "from sklearn.model_selection import cross_validate # Cross validation \n",
    "from sklearn.model_selection import GridSearchCV # Cross validation + param. tuning.\n",
    "\n",
    "# Machine learning methods \n",
    "from sklearn.naive_bayes import GaussianNB as NB\n",
    "from sklearn.neighbors import KNeighborsClassifier as KNN\n",
    "from sklearn.tree import DecisionTreeClassifier as DT\n",
    "from sklearn.tree import DecisionTreeRegressor as DT_reg\n",
    "from sklearn.ensemble import RandomForestClassifier as RF\n",
    "from sklearn import tree # For plotting the decision tree rules\n",
    "from sklearn import svm as svm\n",
    "\n",
    "# For evaluating our model's performance\n",
    "import sklearn.metrics as m\n",
    "\n",
    "# Pipeline to combine modeling elements\n",
    "from sklearn.pipeline import Pipeline\n",
    "\n",
    "# For model interpretation\n",
    "from sklearn.inspection import (\n",
    "    permutation_importance,\n",
    "    partial_dependence, \n",
    "    PartialDependenceDisplay, \n",
    "    plot_partial_dependence\n",
    ")\n",
    "\n",
    "from sklearn.decomposition import PCA \n",
    "\n",
    "\n",
    "# Misc\n",
    "import warnings\n",
    "warnings.filterwarnings(\"ignore\")\n",
    "random.seed(1137)"
   ]
  },
  {
   "cell_type": "code",
   "execution_count": 2,
   "id": "cf76aebc",
   "metadata": {},
   "outputs": [],
   "source": [
    "louisville = pd.read_csv('data/processed/louisville_dv.csv')\n",
    "\n",
    "# fill in missing ages with median value\n",
    "louisville['age_days'].fillna(louisville['age_days'].median(), inplace=True)"
   ]
  },
  {
   "cell_type": "code",
   "execution_count": 4,
   "id": "0273d605",
   "metadata": {},
   "outputs": [],
   "source": [
    "y = louisville[['euthanasia']]\n",
    "X = louisville.drop(columns=['euthanasia', 'city'])\n",
    "\n",
    "train_X, test_X, train_y, test_y = train_test_split(X,y,test_size = .25, random_state=1137)"
   ]
  },
  {
   "cell_type": "code",
   "execution_count": 5,
   "id": "8636818c",
   "metadata": {},
   "outputs": [],
   "source": [
    "# generate ten fold cross validation, preprocess pipeline (min-max scaler), and define the search space\n",
    "\n",
    "fold_generator = KFold(n_splits=10, shuffle=True, random_state=1137)\n",
    "\n",
    "pipe = Pipeline(steps=[('pre_process', pp.MinMaxScaler()),('model',None)])\n",
    "\n",
    "\n",
    "search_space = [\n",
    "\n",
    "        # Random forest with the N Estimators tuning param\n",
    "    {'model' : [RF()],\n",
    "    'model__max_depth':[10,20],\n",
    "    'model__n_estimators':[500],\n",
    "    'model__random_state':[1137]},\n",
    "]"
   ]
  },
  {
   "cell_type": "code",
   "execution_count": 6,
   "id": "c50dfdd8",
   "metadata": {},
   "outputs": [],
   "source": [
    "search = GridSearchCV(pipe, search_space, \n",
    "                      cv = fold_generator,\n",
    "                      scoring='roc_auc',\n",
    "                      n_jobs=4)"
   ]
  },
  {
   "cell_type": "code",
   "execution_count": 7,
   "id": "8d5d9893",
   "metadata": {},
   "outputs": [
    {
     "data": {
      "text/plain": [
       "GridSearchCV(cv=KFold(n_splits=10, random_state=1137, shuffle=True),\n",
       "             estimator=Pipeline(steps=[('pre_process', MinMaxScaler()),\n",
       "                                       ('model', None)]),\n",
       "             n_jobs=4,\n",
       "             param_grid=[{'model': [RandomForestClassifier(max_depth=20,\n",
       "                                                           n_estimators=500,\n",
       "                                                           random_state=1137)],\n",
       "                          'model__max_depth': [10, 20],\n",
       "                          'model__n_estimators': [500],\n",
       "                          'model__random_state': [1137]}],\n",
       "             scoring='roc_auc')"
      ]
     },
     "execution_count": 7,
     "metadata": {},
     "output_type": "execute_result"
    }
   ],
   "source": [
    "search.fit(train_X,train_y.euthanasia)"
   ]
  },
  {
   "cell_type": "code",
   "execution_count": 8,
   "id": "46f6dc47",
   "metadata": {},
   "outputs": [
    {
     "data": {
      "text/plain": [
       "0.867090671281422"
      ]
     },
     "execution_count": 8,
     "metadata": {},
     "output_type": "execute_result"
    }
   ],
   "source": [
    "search.best_score_"
   ]
  },
  {
   "cell_type": "code",
   "execution_count": 9,
   "id": "67adb435",
   "metadata": {},
   "outputs": [],
   "source": [
    "# store the best model\n",
    "rf_mod = search.best_estimator_"
   ]
  },
  {
   "cell_type": "code",
   "execution_count": 10,
   "id": "a0fb604a",
   "metadata": {},
   "outputs": [
    {
     "data": {
      "text/plain": [
       "0.9169608932079425"
      ]
     },
     "execution_count": 10,
     "metadata": {},
     "output_type": "execute_result"
    }
   ],
   "source": [
    "m.roc_auc_score(train_y,rf_mod.predict_proba(train_X)[:,1])"
   ]
  },
  {
   "cell_type": "code",
   "execution_count": 11,
   "id": "d8172f1d",
   "metadata": {},
   "outputs": [
    {
     "data": {
      "text/plain": [
       "0.8392889866226865"
      ]
     },
     "execution_count": 11,
     "metadata": {},
     "output_type": "execute_result"
    }
   ],
   "source": [
    "m.accuracy_score(train_y,rf_mod.predict(train_X))"
   ]
  },
  {
   "cell_type": "code",
   "execution_count": 35,
   "id": "f8bd1336",
   "metadata": {},
   "outputs": [
    {
     "data": {
      "text/html": [
       "<div>\n",
       "<style scoped>\n",
       "    .dataframe tbody tr th:only-of-type {\n",
       "        vertical-align: middle;\n",
       "    }\n",
       "\n",
       "    .dataframe tbody tr th {\n",
       "        vertical-align: top;\n",
       "    }\n",
       "\n",
       "    .dataframe thead th {\n",
       "        text-align: right;\n",
       "    }\n",
       "</style>\n",
       "<table border=\"1\" class=\"dataframe\">\n",
       "  <thead>\n",
       "    <tr style=\"text-align: right;\">\n",
       "      <th></th>\n",
       "      <th>model</th>\n",
       "      <th>mean_test_score</th>\n",
       "      <th>mean_st_err</th>\n",
       "      <th>low</th>\n",
       "      <th>high</th>\n",
       "      <th>max</th>\n",
       "    </tr>\n",
       "  </thead>\n",
       "  <tbody>\n",
       "    <tr>\n",
       "      <th>0</th>\n",
       "      <td>RandomForest, maxdepth:10, trees:500</td>\n",
       "      <td>0.841058</td>\n",
       "      <td>0.003368</td>\n",
       "      <td>0.834322</td>\n",
       "      <td>0.847794</td>\n",
       "      <td>False</td>\n",
       "    </tr>\n",
       "    <tr>\n",
       "      <th>1</th>\n",
       "      <td>RandomForest, maxdepth:20, trees:500</td>\n",
       "      <td>0.867091</td>\n",
       "      <td>0.003348</td>\n",
       "      <td>0.860396</td>\n",
       "      <td>0.873786</td>\n",
       "      <td>True</td>\n",
       "    </tr>\n",
       "  </tbody>\n",
       "</table>\n",
       "</div>"
      ],
      "text/plain": [
       "                                  model  mean_test_score  mean_st_err  \\\n",
       "0  RandomForest, maxdepth:10, trees:500         0.841058     0.003368   \n",
       "1  RandomForest, maxdepth:20, trees:500         0.867091     0.003348   \n",
       "\n",
       "        low      high    max  \n",
       "0  0.834322  0.847794  False  \n",
       "1  0.860396  0.873786   True  "
      ]
     },
     "execution_count": 35,
     "metadata": {},
     "output_type": "execute_result"
    }
   ],
   "source": [
    "# Mean Test Score Comparison Table Creation\n",
    "\n",
    "# store scores and errors for graphing confidence intervals\n",
    "scores = search.cv_results_.get('mean_test_score')\n",
    "errors = search.cv_results_.get('std_test_score')\n",
    "\n",
    "search.cv_results_.get('params')\n",
    "models = [\n",
    "    'RandomForest, maxdepth:10, trees:500',\n",
    "    'RandomForest, maxdepth:20, trees:500',\n",
    "]\n",
    "\n",
    "#create table dataframe\n",
    "d = {'model':models, 'mean_test_score':scores, 'mean_st_err':errors}\n",
    "table = pd.DataFrame(data=d)\n",
    "\n",
    "#create intervals\n",
    "table['low'] = table['mean_test_score'] - 2*table['mean_st_err']\n",
    "table['high'] = table['mean_test_score'] + 2*table['mean_st_err']\n",
    "table['max'] = (table['mean_test_score'] == table['mean_test_score'].max())\n",
    "\n",
    "table"
   ]
  },
  {
   "cell_type": "code",
   "execution_count": 36,
   "id": "c18ab36a",
   "metadata": {},
   "outputs": [
    {
     "data": {
      "image/png": "[encoded data removed]",
      "text/plain": [
       "<Figure size 640x480 with 1 Axes>"
      ]
     },
     "metadata": {
      "needs_background": "light"
     },
     "output_type": "display_data"
    },
    {
     "data": {
      "text/plain": [
       "<ggplot: (8783146093093)>"
      ]
     },
     "execution_count": 36,
     "metadata": {},
     "output_type": "execute_result"
    }
   ],
   "source": [
    "# plot the mean test score averages, denoting the max value in a different color\n",
    "(\n",
    "ggplot(table, aes(x='model', y='mean_test_score',\n",
    "                  fill='max')) + \n",
    "    geom_col() + \n",
    "    geom_errorbar(aes(ymin=\"low\",ymax=\"high\"),width=.4) + \n",
    "    scale_fill_manual(values=('darkgray','gold'), guide=None) + \n",
    "    coord_flip() + \n",
    "    labs(x='', y='Mean Test Score', title='Mean Test Score, Default Model') + \n",
    "    theme_minimal()\n",
    ")"
   ]
  },
  {
   "cell_type": "code",
   "execution_count": 14,
   "id": "4cfe13b0",
   "metadata": {},
   "outputs": [],
   "source": [
    "preds = rf_mod.predict_proba(train_X)[:,1]"
   ]
  },
  {
   "cell_type": "code",
   "execution_count": 38,
   "id": "388b02d3",
   "metadata": {},
   "outputs": [
    {
     "data": {
      "image/png": "[encoded data removed]",
      "text/plain": [
       "<Figure size 720x360 with 1 Axes>"
      ]
     },
     "metadata": {
      "needs_background": "light"
     },
     "output_type": "display_data"
    }
   ],
   "source": [
    "# observe the distribution of probabilities predicted\n",
    "\n",
    "plt.hist(preds, bins='auto')\n",
    "plt.rcParams[\"figure.figsize\"] = (10, 5)\n",
    "plt.title(\"Louisville Training Data Predictions Histogram\")\n",
    "plt.show()\n"
   ]
  },
  {
   "cell_type": "code",
   "execution_count": 49,
   "id": "a51cad95",
   "metadata": {},
   "outputs": [
    {
     "name": "stdout",
     "output_type": "stream",
     "text": [
      "              precision    recall  f1-score   support\n",
      "\n",
      "           0       0.85      0.91      0.88     34480\n",
      "           1       0.82      0.72      0.77     20090\n",
      "\n",
      "    accuracy                           0.84     54570\n",
      "   macro avg       0.83      0.81      0.82     54570\n",
      "weighted avg       0.84      0.84      0.84     54570\n",
      "\n"
     ]
    },
    {
     "data": {
      "image/png": "[encoded data removed]",
      "text/plain": [
       "<Figure size 360x360 with 1 Axes>"
      ]
     },
     "metadata": {
      "needs_background": "light"
     },
     "output_type": "display_data"
    }
   ],
   "source": [
    "# copy predicted values to tweak cut-off for evaluating volatility of precision and recall\n",
    "\n",
    "preds_bin = preds.copy()\n",
    "\n",
    "preds_bin = np.where(preds_bin >= .5, 1, preds_bin)\n",
    "preds_bin = np.where(preds_bin < .5, 0, preds_bin)\n",
    "\n",
    "print(m.classification_report(train_y, preds_bin))\n",
    "\n",
    "m.ConfusionMatrixDisplay.from_predictions(train_y, preds_bin, colorbar=False)\n",
    "plt.rcParams[\"figure.figsize\"] = (5, 5)\n",
    "plt.title('Louisville Training Data Confusion Matrix')\n",
    "plt.legend('',frameon=False)\n",
    "plt.show()"
   ]
  },
  {
   "cell_type": "markdown",
   "id": "8ed5e78f",
   "metadata": {},
   "source": [
    "## Louisville Variable Importance"
   ]
  },
  {
   "cell_type": "code",
   "execution_count": 17,
   "id": "b79b56c8",
   "metadata": {},
   "outputs": [
    {
     "data": {
      "text/html": [
       "<div>\n",
       "<style scoped>\n",
       "    .dataframe tbody tr th:only-of-type {\n",
       "        vertical-align: middle;\n",
       "    }\n",
       "\n",
       "    .dataframe tbody tr th {\n",
       "        vertical-align: top;\n",
       "    }\n",
       "\n",
       "    .dataframe thead th {\n",
       "        text-align: right;\n",
       "    }\n",
       "</style>\n",
       "<table border=\"1\" class=\"dataframe\">\n",
       "  <thead>\n",
       "    <tr style=\"text-align: right;\">\n",
       "      <th></th>\n",
       "      <th>variable</th>\n",
       "      <th>vi</th>\n",
       "      <th>std</th>\n",
       "      <th>low</th>\n",
       "      <th>high</th>\n",
       "    </tr>\n",
       "  </thead>\n",
       "  <tbody>\n",
       "    <tr>\n",
       "      <th>0</th>\n",
       "      <td>age_days</td>\n",
       "      <td>0.092872</td>\n",
       "      <td>0.000681</td>\n",
       "      <td>0.091509</td>\n",
       "      <td>0.094234</td>\n",
       "    </tr>\n",
       "    <tr>\n",
       "      <th>1</th>\n",
       "      <td>intake_repro_altered</td>\n",
       "      <td>0.047560</td>\n",
       "      <td>0.000127</td>\n",
       "      <td>0.047305</td>\n",
       "      <td>0.047814</td>\n",
       "    </tr>\n",
       "    <tr>\n",
       "      <th>2</th>\n",
       "      <td>intake_type_owner surrender</td>\n",
       "      <td>0.034439</td>\n",
       "      <td>0.000067</td>\n",
       "      <td>0.034304</td>\n",
       "      <td>0.034574</td>\n",
       "    </tr>\n",
       "    <tr>\n",
       "      <th>3</th>\n",
       "      <td>intake_type_stray</td>\n",
       "      <td>0.015527</td>\n",
       "      <td>0.000416</td>\n",
       "      <td>0.014696</td>\n",
       "      <td>0.016359</td>\n",
       "    </tr>\n",
       "    <tr>\n",
       "      <th>4</th>\n",
       "      <td>intake_repro_intact</td>\n",
       "      <td>0.009822</td>\n",
       "      <td>0.000429</td>\n",
       "      <td>0.008964</td>\n",
       "      <td>0.010681</td>\n",
       "    </tr>\n",
       "    <tr>\n",
       "      <th>...</th>\n",
       "      <td>...</td>\n",
       "      <td>...</td>\n",
       "      <td>...</td>\n",
       "      <td>...</td>\n",
       "      <td>...</td>\n",
       "    </tr>\n",
       "    <tr>\n",
       "      <th>259</th>\n",
       "      <td>intake_subtype_transfer</td>\n",
       "      <td>0.000000</td>\n",
       "      <td>0.000000</td>\n",
       "      <td>0.000000</td>\n",
       "      <td>0.000000</td>\n",
       "    </tr>\n",
       "    <tr>\n",
       "      <th>260</th>\n",
       "      <td>english foxhound</td>\n",
       "      <td>-0.000006</td>\n",
       "      <td>0.000023</td>\n",
       "      <td>-0.000052</td>\n",
       "      <td>0.000040</td>\n",
       "    </tr>\n",
       "    <tr>\n",
       "      <th>261</th>\n",
       "      <td>schipperke</td>\n",
       "      <td>-0.000006</td>\n",
       "      <td>0.000009</td>\n",
       "      <td>-0.000023</td>\n",
       "      <td>0.000011</td>\n",
       "    </tr>\n",
       "    <tr>\n",
       "      <th>262</th>\n",
       "      <td>tibetan terrier</td>\n",
       "      <td>-0.000006</td>\n",
       "      <td>0.000009</td>\n",
       "      <td>-0.000023</td>\n",
       "      <td>0.000011</td>\n",
       "    </tr>\n",
       "    <tr>\n",
       "      <th>263</th>\n",
       "      <td>english setter</td>\n",
       "      <td>-0.000012</td>\n",
       "      <td>0.000009</td>\n",
       "      <td>-0.000029</td>\n",
       "      <td>0.000005</td>\n",
       "    </tr>\n",
       "  </tbody>\n",
       "</table>\n",
       "<p>264 rows × 5 columns</p>\n",
       "</div>"
      ],
      "text/plain": [
       "                        variable        vi       std       low      high\n",
       "0                       age_days  0.092872  0.000681  0.091509  0.094234\n",
       "1           intake_repro_altered  0.047560  0.000127  0.047305  0.047814\n",
       "2    intake_type_owner surrender  0.034439  0.000067  0.034304  0.034574\n",
       "3              intake_type_stray  0.015527  0.000416  0.014696  0.016359\n",
       "4            intake_repro_intact  0.009822  0.000429  0.008964  0.010681\n",
       "..                           ...       ...       ...       ...       ...\n",
       "259      intake_subtype_transfer  0.000000  0.000000  0.000000  0.000000\n",
       "260             english foxhound -0.000006  0.000023 -0.000052  0.000040\n",
       "261                   schipperke -0.000006  0.000009 -0.000023  0.000011\n",
       "262              tibetan terrier -0.000006  0.000009 -0.000023  0.000011\n",
       "263               english setter -0.000012  0.000009 -0.000029  0.000005\n",
       "\n",
       "[264 rows x 5 columns]"
      ]
     },
     "execution_count": 17,
     "metadata": {},
     "output_type": "execute_result"
    }
   ],
   "source": [
    "## Feature Importance\n",
    "\n",
    "vi = permutation_importance(rf_mod,train_X,train_y,n_repeats=3)\n",
    "\n",
    "# Organize as a data frame \n",
    "vi_dat = pd.DataFrame(dict(variable=train_X.columns,\n",
    "                           vi = vi['importances_mean'],\n",
    "                           std = vi['importances_std']))\n",
    "\n",
    "# Generate intervals\n",
    "vi_dat['low'] = vi_dat['vi'] - 2*vi_dat['std']\n",
    "vi_dat['high'] = vi_dat['vi'] + 2*vi_dat['std']\n",
    "\n",
    "# But in order from most to least important\n",
    "vi_dat = vi_dat.sort_values(by=\"vi\",ascending=False).reset_index(drop=True)\n",
    "\n",
    "\n",
    "vi_dat\n",
    "\n",
    "\n",
    "\n",
    "# store\n",
    "#vi_dat.to_csv(\"vi_dat_20_800.csv\", index=False)\n"
   ]
  },
  {
   "cell_type": "code",
   "execution_count": 46,
   "id": "dbbe93a5",
   "metadata": {},
   "outputs": [
    {
     "data": {
      "image/png": "[encoded data removed]",
      "text/plain": [
       "<Figure size 300x500 with 1 Axes>"
      ]
     },
     "metadata": {},
     "output_type": "display_data"
    },
    {
     "data": {
      "text/plain": [
       "<ggplot: (8783195705188)>"
      ]
     },
     "execution_count": 46,
     "metadata": {},
     "output_type": "execute_result"
    }
   ],
   "source": [
    "# Plot the most important variables\n",
    "(\n",
    "    ggplot(vi_dat[0:10],\n",
    "          aes(x=\"variable\",y=\"vi\")) +\n",
    "    geom_col(fill=\"#e74c3c\") +\n",
    "    geom_point() +\n",
    "    geom_errorbar(aes(ymin=\"low\",ymax=\"high\"),width=.2) +\n",
    "    theme_bw() +\n",
    "    scale_x_discrete(limits=vi_dat[0:10].variable.tolist()) +\n",
    "    coord_flip() +\n",
    "    labs(y=\"Reduction in AUC ROC, Louisville\",x=\"\") + \n",
    "    theme(figure_size=(3,5))\n",
    "         )"
   ]
  },
  {
   "cell_type": "markdown",
   "id": "19a507ba",
   "metadata": {},
   "source": [
    "## Louisville Test Data"
   ]
  },
  {
   "cell_type": "code",
   "execution_count": 19,
   "id": "9c2397e1",
   "metadata": {},
   "outputs": [],
   "source": [
    "preds_t = rf_mod.predict_proba(test_X)[:,1]"
   ]
  },
  {
   "cell_type": "code",
   "execution_count": 39,
   "id": "cb987275",
   "metadata": {},
   "outputs": [
    {
     "data": {
      "image/png": "[encoded data removed]",
      "text/plain": [
       "<Figure size 720x360 with 1 Axes>"
      ]
     },
     "metadata": {
      "needs_background": "light"
     },
     "output_type": "display_data"
    }
   ],
   "source": [
    "plt.hist(preds_t, bins='auto')\n",
    "plt.rcParams[\"figure.figsize\"] = (10, 5)\n",
    "plt.title(\"Louisville Test Data Predictions Histogram\")\n",
    "plt.show()\n"
   ]
  },
  {
   "cell_type": "code",
   "execution_count": 50,
   "id": "c49ecb8e",
   "metadata": {},
   "outputs": [
    {
     "name": "stdout",
     "output_type": "stream",
     "text": [
      "              precision    recall  f1-score   support\n",
      "\n",
      "           0       0.88      0.80      0.84     11596\n",
      "           1       0.70      0.80      0.75      6594\n",
      "\n",
      "    accuracy                           0.80     18190\n",
      "   macro avg       0.79      0.80      0.79     18190\n",
      "weighted avg       0.81      0.80      0.80     18190\n",
      "\n"
     ]
    },
    {
     "data": {
      "image/png": "[encoded data removed]",
      "text/plain": [
       "<Figure size 360x360 with 1 Axes>"
      ]
     },
     "metadata": {
      "needs_background": "light"
     },
     "output_type": "display_data"
    }
   ],
   "source": [
    "preds_bin_t = preds_t.copy()\n",
    "\n",
    "preds_bin_t = np.where(preds_bin_t >= .4, 1, preds_bin_t)\n",
    "preds_bin_t = np.where(preds_bin_t < .4, 0, preds_bin_t)\n",
    "\n",
    "print(m.classification_report(test_y, preds_bin_t))\n",
    "\n",
    "m.ConfusionMatrixDisplay.from_predictions(test_y, preds_bin_t, colorbar=False)\n",
    "plt.rcParams[\"figure.figsize\"] = (5, 5)\n",
    "plt.title('Louisville Test Data Confusion Matrix')\n",
    "plt.show()"
   ]
  },
  {
   "cell_type": "markdown",
   "id": "c5ef7a7d",
   "metadata": {},
   "source": [
    "## Louisville Dataset - PCA\n",
    "Repeat the above process, using data that has been additional pre-processed via PCA to see if feature reduction provides significantly better results."
   ]
  },
  {
   "cell_type": "code",
   "execution_count": 22,
   "id": "e99c4348",
   "metadata": {},
   "outputs": [],
   "source": [
    "# Split the data into a training and test dataset partitioning 75% of the data into the training data, and\n",
    "# holding out 25% of the data as a test set. Set a seed to replicate your split.\n",
    "\n",
    "\n",
    "yp = louisville[['euthanasia']]\n",
    "Xp = louisville.drop(columns=['euthanasia', 'city'])\n",
    "\n",
    "pca = PCA(n_components=20)\n",
    "pca = pca.fit(Xp)\n",
    "Xp = pca.transform(Xp)\n",
    "\n",
    "train_Xp, test_Xp, train_yp, test_yp = train_test_split(Xp,yp,test_size = .25,random_state=1137)"
   ]
  },
  {
   "cell_type": "markdown",
   "id": "142709c8",
   "metadata": {},
   "source": [
    "## Model Fit & Evaluation - PCA"
   ]
  },
  {
   "cell_type": "code",
   "execution_count": 23,
   "id": "944888d2",
   "metadata": {},
   "outputs": [],
   "source": [
    "search_pca = GridSearchCV(pipe, search_space, \n",
    "                      cv = fold_generator,\n",
    "                      scoring='roc_auc',\n",
    "                      n_jobs=4)"
   ]
  },
  {
   "cell_type": "code",
   "execution_count": 24,
   "id": "07be78e0",
   "metadata": {},
   "outputs": [
    {
     "data": {
      "text/plain": [
       "GridSearchCV(cv=KFold(n_splits=10, random_state=1137, shuffle=True),\n",
       "             estimator=Pipeline(steps=[('pre_process', MinMaxScaler()),\n",
       "                                       ('model', None)]),\n",
       "             n_jobs=4,\n",
       "             param_grid=[{'model': [RandomForestClassifier(max_depth=10,\n",
       "                                                           n_estimators=500,\n",
       "                                                           random_state=1137)],\n",
       "                          'model__max_depth': [10, 20],\n",
       "                          'model__n_estimators': [500],\n",
       "                          'model__random_state': [1137]}],\n",
       "             scoring='roc_auc')"
      ]
     },
     "execution_count": 24,
     "metadata": {},
     "output_type": "execute_result"
    }
   ],
   "source": [
    "search_pca.fit(train_Xp,train_yp.euthanasia)"
   ]
  },
  {
   "cell_type": "code",
   "execution_count": 25,
   "id": "a449e02a",
   "metadata": {},
   "outputs": [
    {
     "data": {
      "text/plain": [
       "{'model': RandomForestClassifier(max_depth=10, n_estimators=500, random_state=1137),\n",
       " 'model__max_depth': 10,\n",
       " 'model__n_estimators': 500,\n",
       " 'model__random_state': 1137}"
      ]
     },
     "execution_count": 25,
     "metadata": {},
     "output_type": "execute_result"
    }
   ],
   "source": [
    "search_pca.best_params_"
   ]
  },
  {
   "cell_type": "code",
   "execution_count": 26,
   "id": "4d9be9de",
   "metadata": {},
   "outputs": [],
   "source": [
    "rf_mod_pca = search_pca.best_estimator_"
   ]
  },
  {
   "cell_type": "code",
   "execution_count": 27,
   "id": "4ff8fd43",
   "metadata": {},
   "outputs": [
    {
     "data": {
      "text/plain": [
       "0.8960300349413717"
      ]
     },
     "execution_count": 27,
     "metadata": {},
     "output_type": "execute_result"
    }
   ],
   "source": [
    "m.roc_auc_score(train_yp,rf_mod_pca.predict_proba(train_Xp)[:,1])"
   ]
  },
  {
   "cell_type": "code",
   "execution_count": 33,
   "id": "32583dfc",
   "metadata": {},
   "outputs": [
    {
     "data": {
      "text/html": [
       "<div>\n",
       "<style scoped>\n",
       "    .dataframe tbody tr th:only-of-type {\n",
       "        vertical-align: middle;\n",
       "    }\n",
       "\n",
       "    .dataframe tbody tr th {\n",
       "        vertical-align: top;\n",
       "    }\n",
       "\n",
       "    .dataframe thead th {\n",
       "        text-align: right;\n",
       "    }\n",
       "</style>\n",
       "<table border=\"1\" class=\"dataframe\">\n",
       "  <thead>\n",
       "    <tr style=\"text-align: right;\">\n",
       "      <th></th>\n",
       "      <th>model</th>\n",
       "      <th>mean_test_score</th>\n",
       "      <th>mean_st_err</th>\n",
       "      <th>low</th>\n",
       "      <th>high</th>\n",
       "      <th>max</th>\n",
       "    </tr>\n",
       "  </thead>\n",
       "  <tbody>\n",
       "    <tr>\n",
       "      <th>0</th>\n",
       "      <td>RandomForest, maxdepth:10, trees:1000</td>\n",
       "      <td>0.863769</td>\n",
       "      <td>0.003537</td>\n",
       "      <td>0.856695</td>\n",
       "      <td>0.870842</td>\n",
       "      <td>True</td>\n",
       "    </tr>\n",
       "    <tr>\n",
       "      <th>1</th>\n",
       "      <td>RandomForest, maxdepth:20, trees:500</td>\n",
       "      <td>0.854573</td>\n",
       "      <td>0.004220</td>\n",
       "      <td>0.846133</td>\n",
       "      <td>0.863013</td>\n",
       "      <td>False</td>\n",
       "    </tr>\n",
       "  </tbody>\n",
       "</table>\n",
       "</div>"
      ],
      "text/plain": [
       "                                   model  mean_test_score  mean_st_err  \\\n",
       "0  RandomForest, maxdepth:10, trees:1000         0.863769     0.003537   \n",
       "1   RandomForest, maxdepth:20, trees:500         0.854573     0.004220   \n",
       "\n",
       "        low      high    max  \n",
       "0  0.856695  0.870842   True  \n",
       "1  0.846133  0.863013  False  "
      ]
     },
     "execution_count": 33,
     "metadata": {},
     "output_type": "execute_result"
    }
   ],
   "source": [
    "# Mean Test Score Comparison Table Creation\n",
    "\n",
    "scores_pca = search_pca.cv_results_.get('mean_test_score')\n",
    "errors_pca = search_pca.cv_results_.get('std_test_score')\n",
    "\n",
    "search_pca.cv_results_.get('params')\n",
    "models_pca = [\n",
    "    'RandomForest, maxdepth:10, trees:1000',\n",
    "    'RandomForest, maxdepth:20, trees:500'\n",
    "]\n",
    "\n",
    "dp = {'model':models_pca, 'mean_test_score':scores_pca, 'mean_st_err':errors_pca}\n",
    "table_pca = pd.DataFrame(data=dp)\n",
    "\n",
    "table_pca['low'] = table_pca['mean_test_score'] - 2*table_pca['mean_st_err']\n",
    "table_pca['high'] = table_pca['mean_test_score'] + 2*table_pca['mean_st_err']\n",
    "table_pca['max'] = (table_pca['mean_test_score'] == table_pca['mean_test_score'].max())\n",
    "\n",
    "#table_pca.to_csv('model_test_score_table_PCA.csv', index=False)\n",
    "table_pca"
   ]
  },
  {
   "cell_type": "code",
   "execution_count": 34,
   "id": "48b684fc",
   "metadata": {},
   "outputs": [
    {
     "data": {
      "image/png": "[encoded data removed]",
      "text/plain": [
       "<Figure size 640x480 with 1 Axes>"
      ]
     },
     "metadata": {
      "needs_background": "light"
     },
     "output_type": "display_data"
    },
    {
     "data": {
      "text/plain": [
       "<ggplot: (8783195718632)>"
      ]
     },
     "execution_count": 34,
     "metadata": {},
     "output_type": "execute_result"
    }
   ],
   "source": [
    "(\n",
    "ggplot(table_pca, aes(x='model', y='mean_test_score',\n",
    "                  fill='max')) + \n",
    "    geom_col() + \n",
    "    geom_errorbar(aes(ymin=\"low\",ymax=\"high\"),width=.4) + \n",
    "    scale_fill_manual(values=('darkgray','gold'), guide=None) + \n",
    "    coord_flip() + \n",
    "    labs(x='', y='Mean Test Score', title=\"Austin Training Data Models, PCA\") + \n",
    "    theme_minimal()\n",
    ")"
   ]
  },
  {
   "cell_type": "markdown",
   "id": "a7400365",
   "metadata": {},
   "source": [
    "## Plot & Evaluate Predictions - PCA"
   ]
  },
  {
   "cell_type": "code",
   "execution_count": 30,
   "id": "cdedf3ac",
   "metadata": {},
   "outputs": [],
   "source": [
    "preds_pca = rf_mod_pca.predict_proba(train_Xp)[:,1]\n"
   ]
  },
  {
   "cell_type": "code",
   "execution_count": 31,
   "id": "0b3b9aa8",
   "metadata": {},
   "outputs": [
    {
     "name": "stdout",
     "output_type": "stream",
     "text": [
      "              precision    recall  f1-score   support\n",
      "\n",
      "           0       0.88      0.82      0.85     34480\n",
      "           1       0.73      0.81      0.77     20090\n",
      "\n",
      "    accuracy                           0.82     54570\n",
      "   macro avg       0.80      0.82      0.81     54570\n",
      "weighted avg       0.82      0.82      0.82     54570\n",
      "\n"
     ]
    },
    {
     "data": {
      "image/png": "[encoded data removed]",
      "text/plain": [
       "<Figure size 360x360 with 1 Axes>"
      ]
     },
     "metadata": {
      "needs_background": "light"
     },
     "output_type": "display_data"
    }
   ],
   "source": [
    "preds_pca_bin = preds_pca.copy()\n",
    "\n",
    "preds_pca_bin = np.where(preds_pca_bin >= .4, 1, preds_pca_bin)\n",
    "preds_pca_bin = np.where(preds_pca_bin < .4, 0, preds_pca_bin)\n",
    "\n",
    "print(m.classification_report(train_yp, preds_pca_bin))\n",
    "\n",
    "m.ConfusionMatrixDisplay.from_predictions(train_yp, preds_pca_bin, colorbar=False)\n",
    "plt.rcParams[\"figure.figsize\"] = (5, 5)\n",
    "plt.title('Louisville Training Data PCA Confusion Matrix')\n",
    "plt.show()"
   ]
  }
 ],
 "metadata": {
  "kernelspec": {
   "display_name": "Python 3",
   "language": "python",
   "name": "python3"
  },
  "language_info": {
   "codemirror_mode": {
    "name": "ipython",
    "version": 3
   },
   "file_extension": ".py",
   "mimetype": "text/x-python",
   "name": "python",
   "nbconvert_exporter": "python",
   "pygments_lexer": "ipython3",
   "version": "3.8.8"
  },
  "varInspector": {
   "cols": {
    "lenName": 16,
    "lenType": 16,
    "lenVar": 40
   },
   "kernels_config": {
    "python": {
     "delete_cmd_postfix": "",
     "delete_cmd_prefix": "del ",
     "library": "var_list.py",
     "varRefreshCmd": "print(var_dic_list())"
    },
    "r": {
     "delete_cmd_postfix": ") ",
     "delete_cmd_prefix": "rm(",
     "library": "var_list.r",
     "varRefreshCmd": "cat(var_dic_list()) "
    }
   },
   "types_to_exclude": [
    "module",
    "function",
    "builtin_function_or_method",
    "instance",
    "_Feature"
   ],
   "window_display": false
  }
 },
 "nbformat": 4,
 "nbformat_minor": 5
}
