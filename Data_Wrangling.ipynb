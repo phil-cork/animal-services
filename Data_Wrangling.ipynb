{
 "cells": [
  {
   "cell_type": "code",
   "execution_count": 1,
   "id": "ea27c1d0",
   "metadata": {},
   "outputs": [],
   "source": [
    "import pandas as pd\n",
    "import numpy as np"
   ]
  },
  {
   "cell_type": "code",
   "execution_count": 3,
   "id": "6d5088ea",
   "metadata": {},
   "outputs": [],
   "source": [
    "austin = pd.read_csv(\"Data/Austin_Animal_Center_Outcomes.csv\")\n",
    "bloomington = pd.read_csv(\"Data/Bloomington_Animal_Shelter_Animals.csv\")\n",
    "louisville = pd.read_csv(\"Data/Louisville_Animal_IO_Data_5.csv\")"
   ]
  },
  {
   "cell_type": "code",
   "execution_count": 2,
   "id": "b2fe6ea3",
   "metadata": {},
   "outputs": [],
   "source": [
    "dallas14 = pd.read_csv(\"Data/Dallas_Animal_Shelter_Data_Fiscal_Year_2014.csv\", dtype={'Tag Type': 'string', 'Activity Number': 'string', \"Service Request Number\":'string'})\n",
    "dallas15 = pd.read_csv(\"Data/Dallas_Animal_Shelter_Data_Fiscal_Year_2015.csv\", dtype={'Tag Type': 'string', 'Activity Number': 'string', \"Service Request Number\":'string'})\n",
    "dallas16 = pd.read_csv(\"Data/Dallas_Animal_Shelter_Data_Fiscal_Year_2016.csv\", dtype={'Tag Type': 'string', 'Activity Number': 'string', \"Service Request Number\":'string'})\n",
    "dallas17 = pd.read_csv(\"Data/Dallas_Animal_Shelter_Data_Fiscal_Year_2017.csv\", dtype={'Tag Type': 'string', 'Activity Number': 'string', \"Service Request Number\":'string'})\n",
    "dallas18 = pd.read_csv(\"Data/Dallas_Animal_Shelter_Data_Fiscal_Year_2018.csv\", dtype={'Tag Type': 'string', 'Activity Number': 'string', \"Service Request Number\":'string'})\n",
    "dallas19 = pd.read_csv(\"Data/Dallas_Animal_Shelter_Data_Fiscal_Year_2019.csv\", dtype={'Tag Type': 'string', 'Activity Number': 'string', \"Service Request Number\":'string'})\n",
    "dallas20 = pd.read_csv(\"Data/Dallas_Animal_Shelter_Data_Fiscal_Year_2020.csv\", dtype={'Tag Type': 'string', 'Activity Number': 'string', \"Service Request Number\":'string'})"
   ]
  },
  {
   "cell_type": "markdown",
   "id": "9001f661",
   "metadata": {},
   "source": [
    "## Ongoing Data Wrangling To Do List\n",
    "\n",
    "- remove animals that aren't cats and dogs\n",
    "- remove all rows without outcomes\n",
    "- standardize column names across locations\n",
    "- add location columns for each dataframe\n",
    "- make sure animal IDs don't overlap with others, might need to merge it with their location for unique IDs\n",
    "- format Dates, Times, length of stay, age across each dataset\n",
    "- merge Dallas together into one dataframe\n",
    "- plot years of data to determine if there's enough data from the first recorded years in each location\n",
    "- standardize categorical intake and outcomes entries across each location"
   ]
  },
  {
   "cell_type": "code",
   "execution_count": null,
   "id": "ade02042",
   "metadata": {},
   "outputs": [],
   "source": []
  }
 ],
 "metadata": {
  "kernelspec": {
   "display_name": "Python 3",
   "language": "python",
   "name": "python3"
  },
  "language_info": {
   "codemirror_mode": {
    "name": "ipython",
    "version": 3
   },
   "file_extension": ".py",
   "mimetype": "text/x-python",
   "name": "python",
   "nbconvert_exporter": "python",
   "pygments_lexer": "ipython3",
   "version": "3.8.8"
  }
 },
 "nbformat": 4,
 "nbformat_minor": 5
}
