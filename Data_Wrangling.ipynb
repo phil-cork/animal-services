{
 "cells": [
  {
   "cell_type": "code",
   "execution_count": 1,
   "id": "ea27c1d0",
   "metadata": {},
   "outputs": [],
   "source": [
    "import pandas as pd\n",
    "import numpy as np"
   ]
  },
  {
   "cell_type": "code",
   "execution_count": 134,
   "id": "6d5088ea",
   "metadata": {},
   "outputs": [],
   "source": [
    "austin_outcomes = pd.read_csv(\"Data/Austin_Animal_Center_Outcomes.csv\")\n",
    "austin_intakes = pd.read_csv(\"Data/Austin_Animal_Center_Intakes.csv\")"
   ]
  },
  {
   "cell_type": "code",
   "execution_count": null,
   "id": "8aa497e3",
   "metadata": {},
   "outputs": [],
   "source": [
    "bloomington = pd.read_csv(\"Data/Bloomington_Animal_Shelter_Animals.csv\")\n",
    "louisville = pd.read_csv(\"Data/Louisville_Animal_IO_Data_5.csv\")"
   ]
  },
  {
   "cell_type": "code",
   "execution_count": 172,
   "id": "b2fe6ea3",
   "metadata": {},
   "outputs": [],
   "source": [
    "dallas14 = pd.read_csv(\"Data/Dallas_Animal_Shelter_Data_Fiscal_Year_2014.csv\", dtype={'Tag Type': 'string', 'Activity Number': 'string', \"Service Request Number\":'string'})\n",
    "dallas15 = pd.read_csv(\"Data/Dallas_Animal_Shelter_Data_Fiscal_Year_2015.csv\", dtype={'Tag Type': 'string', 'Activity Number': 'string', \"Service Request Number\":'string'})\n",
    "dallas16 = pd.read_csv(\"Data/Dallas_Animal_Shelter_Data_Fiscal_Year_2016.csv\", dtype={'Tag Type': 'string', 'Activity Number': 'string', \"Service Request Number\":'string'})\n",
    "dallas17 = pd.read_csv(\"Data/Dallas_Animal_Shelter_Data_Fiscal_Year_2017.csv\", dtype={'Tag Type': 'string', 'Activity Number': 'string', \"Service Request Number\":'string'})\n",
    "dallas18 = pd.read_csv(\"Data/Dallas_Animal_Shelter_Data_Fiscal_Year_2018.csv\", dtype={'Tag Type': 'string', 'Activity Number': 'string', \"Service Request Number\":'string'})\n",
    "dallas19 = pd.read_csv(\"Data/Dallas_Animal_Shelter_Data_Fiscal_Year_2019.csv\", dtype={'Tag Type': 'string', 'Activity Number': 'string', \"Service Request Number\":'string'})\n",
    "dallas20 = pd.read_csv(\"Data/Dallas_Animal_Shelter_Data_Fiscal_Year_2020.csv\", dtype={'Tag Type': 'string', 'Activity Number': 'string', \"Service Request Number\":'string'})"
   ]
  },
  {
   "cell_type": "markdown",
   "id": "9001f661",
   "metadata": {},
   "source": [
    "## Ongoing Data Wrangling To Do List\n",
    "\n",
    "- remove animals that aren't cats and dogs\n",
    "- remove all rows without outcomes\n",
    "- standardize column names across locations\n",
    "- add location columns for each dataframe\n",
    "- make sure animal IDs don't overlap with others, might need to merge it with their location for unique IDs\n",
    "- format Dates, Times, length of stay, age across each dataset\n",
    "- merge Dallas together into one dataframe\n",
    "- plot years of data to determine if there's enough data from the first recorded years in each location\n",
    "- standardize categorical intake and outcomes entries across each location"
   ]
  },
  {
   "cell_type": "markdown",
   "id": "b44c57f7",
   "metadata": {},
   "source": [
    "### Austin Dataframe Formatting"
   ]
  },
  {
   "cell_type": "code",
   "execution_count": 135,
   "id": "ef8f5c4d",
   "metadata": {},
   "outputs": [
    {
     "data": {
      "text/plain": [
       "(133367, 9)"
      ]
     },
     "execution_count": 135,
     "metadata": {},
     "output_type": "execute_result"
    }
   ],
   "source": [
    "austin_intakes.drop(['Name', 'MonthYear', 'Found Location'],axis=1, inplace=True)\n",
    "\n",
    "austin_intakes.rename(columns={'Animal ID':'animal_id',\n",
    "                      'Animal Type':'animal_type',\n",
    "                      'DateTime':'intake_date',\n",
    "                      'Intake Type':'intake_type',\n",
    "                      'Intake Condition':'intake_condition',\n",
    "                      'Breed':'breed',\n",
    "                      'Color':'color',\n",
    "                      'Sex upon Intake':'intake_sex',\n",
    "                      'Age upon Intake':'intake_age'}, inplace=True)"
   ]
  },
  {
   "cell_type": "code",
   "execution_count": 136,
   "id": "6fdac516",
   "metadata": {},
   "outputs": [
    {
     "data": {
      "text/plain": [
       "(133307, 10)"
      ]
     },
     "execution_count": 136,
     "metadata": {},
     "output_type": "execute_result"
    }
   ],
   "source": [
    "austin_outcomes.drop(['Name', 'MonthYear'],axis=1, inplace=True)\n",
    "austin_outcomes.rename(columns={'Animal ID':'animal_id',\n",
    "                      'Animal Type':'animal_type',\n",
    "                      'DateTime':'outcome_date',\n",
    "                      'Outcome Type':'outcome_type',\n",
    "                      'Outcome Subtype':'outcome_subtype',\n",
    "                      'Breed':'breed',\n",
    "                      'Color':'color',\n",
    "                      'Sex upon Outcome':'outcome_sex',\n",
    "                      'Age upon Outcome':'outcome_age',\n",
    "                      'Date of Birth':'birth_date'}, inplace=True)"
   ]
  },
  {
   "cell_type": "code",
   "execution_count": 137,
   "id": "316de4a8",
   "metadata": {
    "scrolled": false
   },
   "outputs": [
    {
     "name": "stdout",
     "output_type": "stream",
     "text": [
      "(172548, 15)\n"
     ]
    }
   ],
   "source": [
    "austin = austin_intakes.merge(austin_outcomes, how='left')\n",
    "austin.head()"
   ]
  },
  {
   "cell_type": "markdown",
   "id": "b6ce5846",
   "metadata": {},
   "source": [
    "### Louisville Dataframe Formatting"
   ]
  },
  {
   "cell_type": "code",
   "execution_count": 129,
   "id": "13a6df6d",
   "metadata": {},
   "outputs": [],
   "source": [
    "louisville.drop(['SecondaryColor','IntakeReason','IntakeInternalStatus', 'OutcomeReason','OutcomeInternalStatus'], axis=1, inplace=True)"
   ]
  },
  {
   "cell_type": "code",
   "execution_count": 130,
   "id": "7e316602",
   "metadata": {},
   "outputs": [],
   "source": [
    "louisville.rename(columns={'AnimalID':'animal_id',\n",
    "                          'AnimalType':'animal_type',\n",
    "                          'IntakeDate':'intake_date',\n",
    "                          'IntakeType':'intake_type',\n",
    "                          'IntakeSubtype':'intake_subtype',\n",
    "                          'PrimaryColor':'color',\n",
    "                          'PrimaryBreed':'breed',\n",
    "                          'SecondaryBreed':'breed_2',\n",
    "                          'Gender':'gender',\n",
    "                          'DOB':'birth_date',\n",
    "                          'IntakeAsilomarStatus':'intake_condition',\n",
    "                          'ReproductiveStatusAtIntake':'intake_repro',\n",
    "                          'OutcomeDate':'outcome_date',\n",
    "                          'OutcomeType':'outcome_type',\n",
    "                          'OutcomeSubtype':'outcome_subtype',\n",
    "                          'OutcomeAsilomarStatus':'outcome_condition',\n",
    "                          'ReproductiveStatusAtOutcome':'outcome_repro',\n",
    "                          }, inplace=True)\n",
    "louisville.head()"
   ]
  },
  {
   "cell_type": "markdown",
   "id": "c036f3e9",
   "metadata": {},
   "source": [
    "### Dallas Dataframe Formatting"
   ]
  },
  {
   "cell_type": "code",
   "execution_count": 173,
   "id": "c447a89e",
   "metadata": {},
   "outputs": [],
   "source": [
    "dallas1718 = dallas17.append(dallas18)\n",
    "dallas1718.rename(columns={'Animal_Id':'Animal Id',\n",
    "                           'Animal_Type':'Animal Type',\n",
    "                           'Animal_Breed':'Animal Breed',\n",
    "                           'Kennel_Number':'Kennel Number',\n",
    "                           'Kennel_Status':'Kennel Status',\n",
    "                           'Tag_Type':'Tag Type',\n",
    "                           'Activity_Number':'Activity Number',\n",
    "                           'Activity_Sequence':'Activity Sequence',\n",
    "                           'Source_Id':'Source Id',\n",
    "                           'Census_Tract':'Census Tract',\n",
    "                           'Council_District':'Council District',\n",
    "                           'Intake_Type':'Intake Type',\n",
    "                           'Intake_Subtype':'Intake Subtype',\n",
    "                           'Intake_Total':'Intake Total',\n",
    "                           'Staff_Id':'Staff Id',\n",
    "                           'Intake_Date':'Intake Date',\n",
    "                           'Intake_Time':'Intake Time',\n",
    "                           'Due_Out':'Due Out',\n",
    "                           'Intake_Condition':'Intake Condition',\n",
    "                           'Hold_Request':'Hold Request',\n",
    "                           'Outcome_Type':'Outcome Type',\n",
    "                           'Outcome_Subtype':'Outcome Subtype',\n",
    "                           'Outcome_Date':'Outcome Date',\n",
    "                           'Outcome_Time':'Outcome Time',\n",
    "                           'Receipt_Number':'Receipt Number',\n",
    "                           'Impound_Number':'Impound Number',\n",
    "                           'Service_Request_Number':'Service Request Number',\n",
    "                           'Outcome_Condition':'Outcome Condition',\n",
    "                           'Chip_Status':'Chip Status',\n",
    "                           'Animal_Origin':'Animal Origin',\n",
    "                           'Additional_Information':'Additional Information'\n",
    "                          }, inplace=True)\n",
    "\n",
    "dallas16.rename(columns={\n",
    "                        'Animal ID':'Animal Id',\n",
    "                        'Staff ID':'Staff Id',\n",
    "                        'Source ID':'Source Id'\n",
    "                        }, inplace=True)"
   ]
  },
  {
   "cell_type": "code",
   "execution_count": 205,
   "id": "be09f9d9",
   "metadata": {},
   "outputs": [],
   "source": [
    "dallas = dallas14.append([dallas15,dallas16,dallas1718, dallas19, dallas20])\n",
    "dallas.shape"
   ]
  },
  {
   "cell_type": "code",
   "execution_count": 207,
   "id": "2e629059",
   "metadata": {},
   "outputs": [],
   "source": [
    "dallas.drop(['Kennel Number','Kennel Status','Tag Type',\n",
    "             'Activity Number','Activity Sequence','Source Id',\n",
    "             'Census Tract', 'Council District', 'Intake Total', 'Reason', 'Staff Id',\n",
    "            'Due Out', 'Hold Request','Receipt Number', 'Impound Number',\n",
    "            'Service Request Number', 'Chip Status', 'Animal Origin',\n",
    "            'Additional Information'], axis=1, inplace=True)"
   ]
  },
  {
   "cell_type": "code",
   "execution_count": 210,
   "id": "005aff57",
   "metadata": {},
   "outputs": [],
   "source": [
    "dallas.rename(columns={'Animal Id':'animal_id',\n",
    "                       'Animal Type':'animal_type',\n",
    "                       'Animal Breed':'breed',\n",
    "                       'Intake Type':'intake_type',\n",
    "                       'Intake Subtype':'intake_subtype',\n",
    "                       'Intake Date':'intake_date',\n",
    "                       'Intake Time':'intake_time',\n",
    "                       'Intake Condition':'intake_condition',\n",
    "                       'Outcome Type':'outcome_type',\n",
    "                       'Outcome Date':'outcome_date',\n",
    "                       'Outcome Time':'outcome_time',\n",
    "                       'Outcome Condition':'outcome_condition',\n",
    "                       'Outcome Subtype':'outcome_subtype',\n",
    "                       'Month':'month',\n",
    "                       'Year':'year'\n",
    "    \n",
    "}, inplace=True)\n",
    "dallas.head()"
   ]
  }
 ],
 "metadata": {
  "kernelspec": {
   "display_name": "Python 3",
   "language": "python",
   "name": "python3"
  },
  "language_info": {
   "codemirror_mode": {
    "name": "ipython",
    "version": 3
   },
   "file_extension": ".py",
   "mimetype": "text/x-python",
   "name": "python",
   "nbconvert_exporter": "python",
   "pygments_lexer": "ipython3",
   "version": "3.8.8"
  }
 },
 "nbformat": 4,
 "nbformat_minor": 5
}
